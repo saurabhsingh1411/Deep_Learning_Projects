{
  "nbformat": 4,
  "nbformat_minor": 0,
  "metadata": {
    "colab": {
      "name": "Benzent technology bitcoin price.ipynb",
      "provenance": [],
      "collapsed_sections": [],
      "authorship_tag": "ABX9TyP8yglDX3Ds6INpvLy3JMo2",
      "include_colab_link": true
    },
    "kernelspec": {
      "name": "python3",
      "display_name": "Python 3"
    },
    "language_info": {
      "name": "python"
    },
    "accelerator": "GPU"
  },
  "cells": [
    {
      "cell_type": "markdown",
      "metadata": {
        "id": "view-in-github",
        "colab_type": "text"
      },
      "source": [
        "<a href=\"https://colab.research.google.com/github/saurabhsingh1411/Deep_Learning_Projects/blob/main/Time%20Series/Bitcoin%20Price%20Prediction/bitcoin_price.ipynb\" target=\"_parent\"><img src=\"https://colab.research.google.com/assets/colab-badge.svg\" alt=\"Open In Colab\"/></a>"
      ]
    },
    {
      "cell_type": "code",
      "metadata": {
        "id": "lxrvCqIxGgM8"
      },
      "source": [
        "import pandas as pd\n",
        "import numpy as np\n",
        "import matplotlib.pyplot as plt"
      ],
      "execution_count": 1,
      "outputs": []
    },
    {
      "cell_type": "code",
      "metadata": {
        "colab": {
          "base_uri": "https://localhost:8080/",
          "height": 204
        },
        "id": "L7cOL_7SK8i6",
        "outputId": "e0e9b43c-0377-4b56-f76c-ba1e39d558d5"
      },
      "source": [
        "data=pd.read_csv('features.csv')\n",
        "labels=pd.read_csv('labels.csv')\n",
        "\n",
        "data.tail()"
      ],
      "execution_count": 2,
      "outputs": [
        {
          "output_type": "execute_result",
          "data": {
            "text/html": [
              "<div>\n",
              "<style scoped>\n",
              "    .dataframe tbody tr th:only-of-type {\n",
              "        vertical-align: middle;\n",
              "    }\n",
              "\n",
              "    .dataframe tbody tr th {\n",
              "        vertical-align: top;\n",
              "    }\n",
              "\n",
              "    .dataframe thead th {\n",
              "        text-align: right;\n",
              "    }\n",
              "</style>\n",
              "<table border=\"1\" class=\"dataframe\">\n",
              "  <thead>\n",
              "    <tr style=\"text-align: right;\">\n",
              "      <th></th>\n",
              "      <th>feature_timestamp</th>\n",
              "      <th>f0</th>\n",
              "      <th>f1</th>\n",
              "      <th>f2</th>\n",
              "      <th>f3</th>\n",
              "      <th>f4</th>\n",
              "      <th>f5</th>\n",
              "    </tr>\n",
              "  </thead>\n",
              "  <tbody>\n",
              "    <tr>\n",
              "      <th>97352</th>\n",
              "      <td>2020-12-31 23:35:00+00:00</td>\n",
              "      <td>1</td>\n",
              "      <td>0</td>\n",
              "      <td>0</td>\n",
              "      <td>0</td>\n",
              "      <td>0</td>\n",
              "      <td>0</td>\n",
              "    </tr>\n",
              "    <tr>\n",
              "      <th>97353</th>\n",
              "      <td>2020-12-31 23:40:00+00:00</td>\n",
              "      <td>1</td>\n",
              "      <td>0</td>\n",
              "      <td>0</td>\n",
              "      <td>0</td>\n",
              "      <td>0</td>\n",
              "      <td>0</td>\n",
              "    </tr>\n",
              "    <tr>\n",
              "      <th>97354</th>\n",
              "      <td>2020-12-31 23:45:00+00:00</td>\n",
              "      <td>1</td>\n",
              "      <td>0</td>\n",
              "      <td>0</td>\n",
              "      <td>0</td>\n",
              "      <td>0</td>\n",
              "      <td>0</td>\n",
              "    </tr>\n",
              "    <tr>\n",
              "      <th>97355</th>\n",
              "      <td>2020-12-31 23:50:00+00:00</td>\n",
              "      <td>1</td>\n",
              "      <td>0</td>\n",
              "      <td>0</td>\n",
              "      <td>0</td>\n",
              "      <td>0</td>\n",
              "      <td>0</td>\n",
              "    </tr>\n",
              "    <tr>\n",
              "      <th>97356</th>\n",
              "      <td>2020-12-31 23:55:00+00:00</td>\n",
              "      <td>1</td>\n",
              "      <td>0</td>\n",
              "      <td>0</td>\n",
              "      <td>0</td>\n",
              "      <td>0</td>\n",
              "      <td>0</td>\n",
              "    </tr>\n",
              "  </tbody>\n",
              "</table>\n",
              "</div>"
            ],
            "text/plain": [
              "               feature_timestamp  f0  f1  f2  f3  f4  f5\n",
              "97352  2020-12-31 23:35:00+00:00   1   0   0   0   0   0\n",
              "97353  2020-12-31 23:40:00+00:00   1   0   0   0   0   0\n",
              "97354  2020-12-31 23:45:00+00:00   1   0   0   0   0   0\n",
              "97355  2020-12-31 23:50:00+00:00   1   0   0   0   0   0\n",
              "97356  2020-12-31 23:55:00+00:00   1   0   0   0   0   0"
            ]
          },
          "metadata": {
            "tags": []
          },
          "execution_count": 2
        }
      ]
    },
    {
      "cell_type": "code",
      "metadata": {
        "colab": {
          "base_uri": "https://localhost:8080/",
          "height": 204
        },
        "id": "xfY3SV4NMArQ",
        "outputId": "7abae332-1f62-41e7-cd5e-0d995b3735d5"
      },
      "source": [
        "train=labels\n",
        "train.head()"
      ],
      "execution_count": 3,
      "outputs": [
        {
          "output_type": "execute_result",
          "data": {
            "text/html": [
              "<div>\n",
              "<style scoped>\n",
              "    .dataframe tbody tr th:only-of-type {\n",
              "        vertical-align: middle;\n",
              "    }\n",
              "\n",
              "    .dataframe tbody tr th {\n",
              "        vertical-align: top;\n",
              "    }\n",
              "\n",
              "    .dataframe thead th {\n",
              "        text-align: right;\n",
              "    }\n",
              "</style>\n",
              "<table border=\"1\" class=\"dataframe\">\n",
              "  <thead>\n",
              "    <tr style=\"text-align: right;\">\n",
              "      <th></th>\n",
              "      <th>timestamp</th>\n",
              "      <th>label</th>\n",
              "      <th>weight</th>\n",
              "      <th>close</th>\n",
              "    </tr>\n",
              "  </thead>\n",
              "  <tbody>\n",
              "    <tr>\n",
              "      <th>0</th>\n",
              "      <td>2020-01-01 00:10:00+00:00</td>\n",
              "      <td>-1.0</td>\n",
              "      <td>0.320526</td>\n",
              "      <td>7158.23</td>\n",
              "    </tr>\n",
              "    <tr>\n",
              "      <th>1</th>\n",
              "      <td>2020-01-01 00:15:00+00:00</td>\n",
              "      <td>-1.0</td>\n",
              "      <td>0.055105</td>\n",
              "      <td>7155.03</td>\n",
              "    </tr>\n",
              "    <tr>\n",
              "      <th>2</th>\n",
              "      <td>2020-01-01 00:20:00+00:00</td>\n",
              "      <td>1.0</td>\n",
              "      <td>0.363105</td>\n",
              "      <td>7154.48</td>\n",
              "    </tr>\n",
              "    <tr>\n",
              "      <th>3</th>\n",
              "      <td>2020-01-01 00:25:00+00:00</td>\n",
              "      <td>1.0</td>\n",
              "      <td>0.602664</td>\n",
              "      <td>7157.00</td>\n",
              "    </tr>\n",
              "    <tr>\n",
              "      <th>4</th>\n",
              "      <td>2020-01-01 00:30:00+00:00</td>\n",
              "      <td>1.0</td>\n",
              "      <td>0.569698</td>\n",
              "      <td>7159.21</td>\n",
              "    </tr>\n",
              "  </tbody>\n",
              "</table>\n",
              "</div>"
            ],
            "text/plain": [
              "                   timestamp  label    weight    close\n",
              "0  2020-01-01 00:10:00+00:00   -1.0  0.320526  7158.23\n",
              "1  2020-01-01 00:15:00+00:00   -1.0  0.055105  7155.03\n",
              "2  2020-01-01 00:20:00+00:00    1.0  0.363105  7154.48\n",
              "3  2020-01-01 00:25:00+00:00    1.0  0.602664  7157.00\n",
              "4  2020-01-01 00:30:00+00:00    1.0  0.569698  7159.21"
            ]
          },
          "metadata": {
            "tags": []
          },
          "execution_count": 3
        }
      ]
    },
    {
      "cell_type": "code",
      "metadata": {
        "id": "goOeBEUQMQ3g"
      },
      "source": [
        "train=labels"
      ],
      "execution_count": 8,
      "outputs": []
    },
    {
      "cell_type": "code",
      "metadata": {
        "colab": {
          "base_uri": "https://localhost:8080/",
          "height": 204
        },
        "id": "6WHXFuEsMRIl",
        "outputId": "5baa9698-6828-48e3-9f55-df5270bd8a5c"
      },
      "source": [
        "train.head()"
      ],
      "execution_count": 9,
      "outputs": [
        {
          "output_type": "execute_result",
          "data": {
            "text/html": [
              "<div>\n",
              "<style scoped>\n",
              "    .dataframe tbody tr th:only-of-type {\n",
              "        vertical-align: middle;\n",
              "    }\n",
              "\n",
              "    .dataframe tbody tr th {\n",
              "        vertical-align: top;\n",
              "    }\n",
              "\n",
              "    .dataframe thead th {\n",
              "        text-align: right;\n",
              "    }\n",
              "</style>\n",
              "<table border=\"1\" class=\"dataframe\">\n",
              "  <thead>\n",
              "    <tr style=\"text-align: right;\">\n",
              "      <th></th>\n",
              "      <th>close</th>\n",
              "    </tr>\n",
              "  </thead>\n",
              "  <tbody>\n",
              "    <tr>\n",
              "      <th>0</th>\n",
              "      <td>7158.23</td>\n",
              "    </tr>\n",
              "    <tr>\n",
              "      <th>1</th>\n",
              "      <td>7155.03</td>\n",
              "    </tr>\n",
              "    <tr>\n",
              "      <th>2</th>\n",
              "      <td>7154.48</td>\n",
              "    </tr>\n",
              "    <tr>\n",
              "      <th>3</th>\n",
              "      <td>7157.00</td>\n",
              "    </tr>\n",
              "    <tr>\n",
              "      <th>4</th>\n",
              "      <td>7159.21</td>\n",
              "    </tr>\n",
              "  </tbody>\n",
              "</table>\n",
              "</div>"
            ],
            "text/plain": [
              "     close\n",
              "0  7158.23\n",
              "1  7155.03\n",
              "2  7154.48\n",
              "3  7157.00\n",
              "4  7159.21"
            ]
          },
          "metadata": {
            "tags": []
          },
          "execution_count": 9
        }
      ]
    },
    {
      "cell_type": "code",
      "metadata": {
        "colab": {
          "base_uri": "https://localhost:8080/"
        },
        "id": "5oPxVHMqXFdb",
        "outputId": "b7d5e9e8-0d1e-416a-969a-960583d22845"
      },
      "source": [
        "train.isnull().sum()"
      ],
      "execution_count": 10,
      "outputs": [
        {
          "output_type": "execute_result",
          "data": {
            "text/plain": [
              "close    0\n",
              "dtype: int64"
            ]
          },
          "metadata": {
            "tags": []
          },
          "execution_count": 10
        }
      ]
    },
    {
      "cell_type": "code",
      "metadata": {
        "colab": {
          "base_uri": "https://localhost:8080/"
        },
        "id": "tTxwVUVxXj7f",
        "outputId": "dd7c7904-2028-4d76-b7da-f8ea6596946a"
      },
      "source": [
        "train.shape"
      ],
      "execution_count": 11,
      "outputs": [
        {
          "output_type": "execute_result",
          "data": {
            "text/plain": [
              "(105142, 1)"
            ]
          },
          "metadata": {
            "tags": []
          },
          "execution_count": 11
        }
      ]
    },
    {
      "cell_type": "code",
      "metadata": {
        "colab": {
          "base_uri": "https://localhost:8080/",
          "height": 1000
        },
        "id": "zSaLk1KwZCZD",
        "outputId": "a576ba1e-be6c-4a5a-b7ab-bee8a3ded215"
      },
      "source": [
        "#variable for predicting n days into the future \n",
        "prediction_days=30 \n",
        "train['prediction']=train['close'].shift(-prediction_days)\n",
        "\n",
        "train.head(35)"
      ],
      "execution_count": 12,
      "outputs": [
        {
          "output_type": "execute_result",
          "data": {
            "text/html": [
              "<div>\n",
              "<style scoped>\n",
              "    .dataframe tbody tr th:only-of-type {\n",
              "        vertical-align: middle;\n",
              "    }\n",
              "\n",
              "    .dataframe tbody tr th {\n",
              "        vertical-align: top;\n",
              "    }\n",
              "\n",
              "    .dataframe thead th {\n",
              "        text-align: right;\n",
              "    }\n",
              "</style>\n",
              "<table border=\"1\" class=\"dataframe\">\n",
              "  <thead>\n",
              "    <tr style=\"text-align: right;\">\n",
              "      <th></th>\n",
              "      <th>close</th>\n",
              "      <th>prediction</th>\n",
              "    </tr>\n",
              "  </thead>\n",
              "  <tbody>\n",
              "    <tr>\n",
              "      <th>0</th>\n",
              "      <td>7158.23</td>\n",
              "      <td>7211.00</td>\n",
              "    </tr>\n",
              "    <tr>\n",
              "      <th>1</th>\n",
              "      <td>7155.03</td>\n",
              "      <td>7210.60</td>\n",
              "    </tr>\n",
              "    <tr>\n",
              "      <th>2</th>\n",
              "      <td>7154.48</td>\n",
              "      <td>7217.00</td>\n",
              "    </tr>\n",
              "    <tr>\n",
              "      <th>3</th>\n",
              "      <td>7157.00</td>\n",
              "      <td>7217.00</td>\n",
              "    </tr>\n",
              "    <tr>\n",
              "      <th>4</th>\n",
              "      <td>7159.21</td>\n",
              "      <td>7212.74</td>\n",
              "    </tr>\n",
              "    <tr>\n",
              "      <th>5</th>\n",
              "      <td>7157.30</td>\n",
              "      <td>7200.02</td>\n",
              "    </tr>\n",
              "    <tr>\n",
              "      <th>6</th>\n",
              "      <td>7155.72</td>\n",
              "      <td>7200.01</td>\n",
              "    </tr>\n",
              "    <tr>\n",
              "      <th>7</th>\n",
              "      <td>7155.20</td>\n",
              "      <td>7207.51</td>\n",
              "    </tr>\n",
              "    <tr>\n",
              "      <th>8</th>\n",
              "      <td>7150.95</td>\n",
              "      <td>7208.48</td>\n",
              "    </tr>\n",
              "    <tr>\n",
              "      <th>9</th>\n",
              "      <td>7150.35</td>\n",
              "      <td>7207.79</td>\n",
              "    </tr>\n",
              "    <tr>\n",
              "      <th>10</th>\n",
              "      <td>7157.01</td>\n",
              "      <td>7209.99</td>\n",
              "    </tr>\n",
              "    <tr>\n",
              "      <th>11</th>\n",
              "      <td>7161.29</td>\n",
              "      <td>7202.73</td>\n",
              "    </tr>\n",
              "    <tr>\n",
              "      <th>12</th>\n",
              "      <td>7167.34</td>\n",
              "      <td>7193.41</td>\n",
              "    </tr>\n",
              "    <tr>\n",
              "      <th>13</th>\n",
              "      <td>7168.20</td>\n",
              "      <td>7199.19</td>\n",
              "    </tr>\n",
              "    <tr>\n",
              "      <th>14</th>\n",
              "      <td>7171.01</td>\n",
              "      <td>7200.00</td>\n",
              "    </tr>\n",
              "    <tr>\n",
              "      <th>15</th>\n",
              "      <td>7186.60</td>\n",
              "      <td>7196.98</td>\n",
              "    </tr>\n",
              "    <tr>\n",
              "      <th>16</th>\n",
              "      <td>7194.42</td>\n",
              "      <td>7199.55</td>\n",
              "    </tr>\n",
              "    <tr>\n",
              "      <th>17</th>\n",
              "      <td>7196.26</td>\n",
              "      <td>7198.19</td>\n",
              "    </tr>\n",
              "    <tr>\n",
              "      <th>18</th>\n",
              "      <td>7191.28</td>\n",
              "      <td>7190.08</td>\n",
              "    </tr>\n",
              "    <tr>\n",
              "      <th>19</th>\n",
              "      <td>7186.01</td>\n",
              "      <td>7192.53</td>\n",
              "    </tr>\n",
              "    <tr>\n",
              "      <th>20</th>\n",
              "      <td>7186.46</td>\n",
              "      <td>7192.53</td>\n",
              "    </tr>\n",
              "    <tr>\n",
              "      <th>21</th>\n",
              "      <td>7194.52</td>\n",
              "      <td>7196.00</td>\n",
              "    </tr>\n",
              "    <tr>\n",
              "      <th>22</th>\n",
              "      <td>7197.77</td>\n",
              "      <td>7198.06</td>\n",
              "    </tr>\n",
              "    <tr>\n",
              "      <th>23</th>\n",
              "      <td>7197.74</td>\n",
              "      <td>7198.00</td>\n",
              "    </tr>\n",
              "    <tr>\n",
              "      <th>24</th>\n",
              "      <td>7192.79</td>\n",
              "      <td>7197.97</td>\n",
              "    </tr>\n",
              "    <tr>\n",
              "      <th>25</th>\n",
              "      <td>7199.99</td>\n",
              "      <td>7199.00</td>\n",
              "    </tr>\n",
              "    <tr>\n",
              "      <th>26</th>\n",
              "      <td>7204.96</td>\n",
              "      <td>7190.01</td>\n",
              "    </tr>\n",
              "    <tr>\n",
              "      <th>27</th>\n",
              "      <td>7207.58</td>\n",
              "      <td>7186.41</td>\n",
              "    </tr>\n",
              "    <tr>\n",
              "      <th>28</th>\n",
              "      <td>7212.09</td>\n",
              "      <td>7195.51</td>\n",
              "    </tr>\n",
              "    <tr>\n",
              "      <th>29</th>\n",
              "      <td>7209.48</td>\n",
              "      <td>7198.12</td>\n",
              "    </tr>\n",
              "    <tr>\n",
              "      <th>30</th>\n",
              "      <td>7211.00</td>\n",
              "      <td>7199.00</td>\n",
              "    </tr>\n",
              "    <tr>\n",
              "      <th>31</th>\n",
              "      <td>7210.60</td>\n",
              "      <td>7196.01</td>\n",
              "    </tr>\n",
              "    <tr>\n",
              "      <th>32</th>\n",
              "      <td>7217.00</td>\n",
              "      <td>7196.01</td>\n",
              "    </tr>\n",
              "    <tr>\n",
              "      <th>33</th>\n",
              "      <td>7217.00</td>\n",
              "      <td>7194.99</td>\n",
              "    </tr>\n",
              "    <tr>\n",
              "      <th>34</th>\n",
              "      <td>7212.74</td>\n",
              "      <td>7194.84</td>\n",
              "    </tr>\n",
              "  </tbody>\n",
              "</table>\n",
              "</div>"
            ],
            "text/plain": [
              "      close  prediction\n",
              "0   7158.23     7211.00\n",
              "1   7155.03     7210.60\n",
              "2   7154.48     7217.00\n",
              "3   7157.00     7217.00\n",
              "4   7159.21     7212.74\n",
              "5   7157.30     7200.02\n",
              "6   7155.72     7200.01\n",
              "7   7155.20     7207.51\n",
              "8   7150.95     7208.48\n",
              "9   7150.35     7207.79\n",
              "10  7157.01     7209.99\n",
              "11  7161.29     7202.73\n",
              "12  7167.34     7193.41\n",
              "13  7168.20     7199.19\n",
              "14  7171.01     7200.00\n",
              "15  7186.60     7196.98\n",
              "16  7194.42     7199.55\n",
              "17  7196.26     7198.19\n",
              "18  7191.28     7190.08\n",
              "19  7186.01     7192.53\n",
              "20  7186.46     7192.53\n",
              "21  7194.52     7196.00\n",
              "22  7197.77     7198.06\n",
              "23  7197.74     7198.00\n",
              "24  7192.79     7197.97\n",
              "25  7199.99     7199.00\n",
              "26  7204.96     7190.01\n",
              "27  7207.58     7186.41\n",
              "28  7212.09     7195.51\n",
              "29  7209.48     7198.12\n",
              "30  7211.00     7199.00\n",
              "31  7210.60     7196.01\n",
              "32  7217.00     7196.01\n",
              "33  7217.00     7194.99\n",
              "34  7212.74     7194.84"
            ]
          },
          "metadata": {
            "tags": []
          },
          "execution_count": 12
        }
      ]
    },
    {
      "cell_type": "code",
      "metadata": {
        "colab": {
          "base_uri": "https://localhost:8080/",
          "height": 359
        },
        "id": "_9iq9s_EaFVf",
        "outputId": "6ec14e5b-bf9c-47f2-bbcf-dcb0ced25086"
      },
      "source": [
        "train.tail(10)"
      ],
      "execution_count": 13,
      "outputs": [
        {
          "output_type": "execute_result",
          "data": {
            "text/html": [
              "<div>\n",
              "<style scoped>\n",
              "    .dataframe tbody tr th:only-of-type {\n",
              "        vertical-align: middle;\n",
              "    }\n",
              "\n",
              "    .dataframe tbody tr th {\n",
              "        vertical-align: top;\n",
              "    }\n",
              "\n",
              "    .dataframe thead th {\n",
              "        text-align: right;\n",
              "    }\n",
              "</style>\n",
              "<table border=\"1\" class=\"dataframe\">\n",
              "  <thead>\n",
              "    <tr style=\"text-align: right;\">\n",
              "      <th></th>\n",
              "      <th>close</th>\n",
              "      <th>prediction</th>\n",
              "    </tr>\n",
              "  </thead>\n",
              "  <tbody>\n",
              "    <tr>\n",
              "      <th>105132</th>\n",
              "      <td>29124.50</td>\n",
              "      <td>NaN</td>\n",
              "    </tr>\n",
              "    <tr>\n",
              "      <th>105133</th>\n",
              "      <td>29142.72</td>\n",
              "      <td>NaN</td>\n",
              "    </tr>\n",
              "    <tr>\n",
              "      <th>105134</th>\n",
              "      <td>29070.41</td>\n",
              "      <td>NaN</td>\n",
              "    </tr>\n",
              "    <tr>\n",
              "      <th>105135</th>\n",
              "      <td>29054.03</td>\n",
              "      <td>NaN</td>\n",
              "    </tr>\n",
              "    <tr>\n",
              "      <th>105136</th>\n",
              "      <td>29022.68</td>\n",
              "      <td>NaN</td>\n",
              "    </tr>\n",
              "    <tr>\n",
              "      <th>105137</th>\n",
              "      <td>29040.81</td>\n",
              "      <td>NaN</td>\n",
              "    </tr>\n",
              "    <tr>\n",
              "      <th>105138</th>\n",
              "      <td>28880.65</td>\n",
              "      <td>NaN</td>\n",
              "    </tr>\n",
              "    <tr>\n",
              "      <th>105139</th>\n",
              "      <td>29020.24</td>\n",
              "      <td>NaN</td>\n",
              "    </tr>\n",
              "    <tr>\n",
              "      <th>105140</th>\n",
              "      <td>29040.46</td>\n",
              "      <td>NaN</td>\n",
              "    </tr>\n",
              "    <tr>\n",
              "      <th>105141</th>\n",
              "      <td>28990.08</td>\n",
              "      <td>NaN</td>\n",
              "    </tr>\n",
              "  </tbody>\n",
              "</table>\n",
              "</div>"
            ],
            "text/plain": [
              "           close  prediction\n",
              "105132  29124.50         NaN\n",
              "105133  29142.72         NaN\n",
              "105134  29070.41         NaN\n",
              "105135  29054.03         NaN\n",
              "105136  29022.68         NaN\n",
              "105137  29040.81         NaN\n",
              "105138  28880.65         NaN\n",
              "105139  29020.24         NaN\n",
              "105140  29040.46         NaN\n",
              "105141  28990.08         NaN"
            ]
          },
          "metadata": {
            "tags": []
          },
          "execution_count": 13
        }
      ]
    },
    {
      "cell_type": "code",
      "metadata": {
        "colab": {
          "base_uri": "https://localhost:8080/"
        },
        "id": "wOVCMvaFaOxv",
        "outputId": "bed21cdc-c170-490a-ae33-cea34597d7b2"
      },
      "source": [
        "#Creating the independent dataset(X)\n",
        "\n",
        "X=np.array(train.drop(['prediction'],axis=1))\n",
        "\n",
        "X=X[:len(train)-prediction_days]\n",
        "\n",
        "print(X)"
      ],
      "execution_count": 14,
      "outputs": [
        {
          "output_type": "stream",
          "text": [
            "[[ 7158.23]\n",
            " [ 7155.03]\n",
            " [ 7154.48]\n",
            " ...\n",
            " [29191.54]\n",
            " [29129.63]\n",
            " [29149.68]]\n"
          ],
          "name": "stdout"
        }
      ]
    },
    {
      "cell_type": "code",
      "metadata": {
        "id": "O8cuWPbyaq0s"
      },
      "source": [
        "y=np.array(train['prediction'])\n",
        "\n",
        "#get the all of y except the last n rows \n",
        "\n",
        "y=y[:-prediction_days]"
      ],
      "execution_count": 15,
      "outputs": []
    },
    {
      "cell_type": "code",
      "metadata": {
        "colab": {
          "base_uri": "https://localhost:8080/"
        },
        "id": "p4h9EHrUaq8w",
        "outputId": "c28bb3a3-1dc8-42d5-8e9c-ebe7c57e0193"
      },
      "source": [
        "print(y)"
      ],
      "execution_count": 16,
      "outputs": [
        {
          "output_type": "stream",
          "text": [
            "[ 7211.    7210.6   7217.   ... 29020.24 29040.46 28990.08]\n"
          ],
          "name": "stdout"
        }
      ]
    },
    {
      "cell_type": "code",
      "metadata": {
        "id": "c-iReaWicr-x"
      },
      "source": [
        "from sklearn.model_selection import train_test_split\n",
        "\n",
        "x_train,x_test,y_train,y_test=train_test_split(X,y,test_size=0.2)"
      ],
      "execution_count": 17,
      "outputs": []
    },
    {
      "cell_type": "code",
      "metadata": {
        "colab": {
          "base_uri": "https://localhost:8080/"
        },
        "id": "fRdNJaArdNbt",
        "outputId": "f926bb4e-928f-48c5-a827-847e51371f52"
      },
      "source": [
        "# Set prediction_days_array equal to the last 30 rows of the original data set from the price column\n",
        "\n",
        "prediction_days_array=np.array(train.drop(['prediction'],axis=1))[-prediction_days:]\n",
        "\n",
        "print(prediction_days_array)"
      ],
      "execution_count": 18,
      "outputs": [
        {
          "output_type": "stream",
          "text": [
            "[[29199.99]\n",
            " [29068.21]\n",
            " [29076.05]\n",
            " [29046.01]\n",
            " [29051.34]\n",
            " [29006.05]\n",
            " [29015.96]\n",
            " [29030.  ]\n",
            " [29098.05]\n",
            " [29100.  ]\n",
            " [29133.15]\n",
            " [29107.74]\n",
            " [29141.43]\n",
            " [29159.81]\n",
            " [29168.99]\n",
            " [29148.19]\n",
            " [29163.15]\n",
            " [29157.65]\n",
            " [29099.83]\n",
            " [29096.01]\n",
            " [29124.5 ]\n",
            " [29142.72]\n",
            " [29070.41]\n",
            " [29054.03]\n",
            " [29022.68]\n",
            " [29040.81]\n",
            " [28880.65]\n",
            " [29020.24]\n",
            " [29040.46]\n",
            " [28990.08]]\n"
          ],
          "name": "stdout"
        }
      ]
    },
    {
      "cell_type": "markdown",
      "metadata": {
        "id": "anCrWnOmdoVh"
      },
      "source": [
        "Preparing the model and validating the model"
      ]
    },
    {
      "cell_type": "code",
      "metadata": {
        "id": "7FuxNbVIeQzn"
      },
      "source": [
        "from sklearn.svm import SVR \n",
        "\n",
        "#Create and train support vector machine \n",
        "\n",
        "svr_rbf=SVR(kernel='rbf')  #Create the Model \n",
        "svr_rbf.fit(x_train,y_train)  #Train the Model "
      ],
      "execution_count": null,
      "outputs": []
    },
    {
      "cell_type": "code",
      "metadata": {
        "id": "NDP7wvdSim8u"
      },
      "source": [
        "svr_rbf_confidence = svr_rbf.score(x_test, y_test)\n",
        "print(\"svr_rbf accuracy: \", svr_rbf_confidence)"
      ],
      "execution_count": null,
      "outputs": []
    },
    {
      "cell_type": "code",
      "metadata": {
        "id": "A4pXpLsDinL0"
      },
      "source": [
        "# Print the predicted value\n",
        "svm_prediction = svr_rbf.predict(x_test)\n",
        "print(svm_prediction)\n",
        "\n",
        "print()\n",
        "\n",
        "#Print the actual values\n",
        "print(y_test)"
      ],
      "execution_count": null,
      "outputs": []
    },
    {
      "cell_type": "code",
      "metadata": {
        "id": "EzOPI7dbjCPS"
      },
      "source": [
        "# Print the model predictions for the next 'n=30' days\n",
        "svm_prediction = svr_rbf.predict(prediction_days_array)\n",
        "print(svm_prediction)"
      ],
      "execution_count": null,
      "outputs": []
    }
  ]
}