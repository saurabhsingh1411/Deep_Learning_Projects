{
  "nbformat": 4,
  "nbformat_minor": 0,
  "metadata": {
    "colab": {
      "name": "classifying MNIST with MLP.ipynb",
      "provenance": [],
      "authorship_tag": "ABX9TyP2j7Ly2X24Is9sHf9s1Q2t",
      "include_colab_link": true
    },
    "kernelspec": {
      "name": "python3",
      "display_name": "Python 3"
    }
  },
  "cells": [
    {
      "cell_type": "markdown",
      "metadata": {
        "id": "view-in-github",
        "colab_type": "text"
      },
      "source": [
        "<a href=\"https://colab.research.google.com/github/saurabhsingh1411/Deep_Learning_Projects/blob/main/DNN/classifying_MNIST_with_MLP.ipynb\" target=\"_parent\"><img src=\"https://colab.research.google.com/assets/colab-badge.svg\" alt=\"Open In Colab\"/></a>"
      ]
    },
    {
      "cell_type": "code",
      "metadata": {
        "id": "ZNPylvj8oZ7Q"
      },
      "source": [
        "import tensorflow as tf  \r\n",
        "mnist=tf.keras.datasets.mnist"
      ],
      "execution_count": 1,
      "outputs": []
    },
    {
      "cell_type": "code",
      "metadata": {
        "colab": {
          "base_uri": "https://localhost:8080/"
        },
        "id": "iNbUvN5wdRKQ",
        "outputId": "307110b4-e518-45f7-bf0e-a3f3f7c916c6"
      },
      "source": [
        "(x_train,y_train),(x_test,y_test)=mnist.load_data()"
      ],
      "execution_count": 2,
      "outputs": [
        {
          "output_type": "stream",
          "text": [
            "Downloading data from https://storage.googleapis.com/tensorflow/tf-keras-datasets/mnist.npz\n",
            "11493376/11490434 [==============================] - 0s 0us/step\n"
          ],
          "name": "stdout"
        }
      ]
    },
    {
      "cell_type": "code",
      "metadata": {
        "id": "MFgynbxWdRuB"
      },
      "source": [
        "x_train=x_train/255\r\n",
        "x_test=x_test/255"
      ],
      "execution_count": 3,
      "outputs": []
    },
    {
      "cell_type": "code",
      "metadata": {
        "colab": {
          "base_uri": "https://localhost:8080/"
        },
        "id": "gbiyLtGgh_7x",
        "outputId": "c5ff031e-ed37-4aef-b2bd-de976e37179a"
      },
      "source": [
        "print(x_train.shape)"
      ],
      "execution_count": 19,
      "outputs": [
        {
          "output_type": "stream",
          "text": [
            "(60000, 28, 28)\n"
          ],
          "name": "stdout"
        }
      ]
    },
    {
      "cell_type": "code",
      "metadata": {
        "id": "PQCiZtk2iLXG"
      },
      "source": [
        "from sklearn.model_selection import train_test_split\r\n",
        "x_train1,x_test1,y_train1,y_test1=train_test_split(x_train,y_train,test_size=0.1,random_state=0)"
      ],
      "execution_count": 31,
      "outputs": []
    },
    {
      "cell_type": "code",
      "metadata": {
        "colab": {
          "base_uri": "https://localhost:8080/"
        },
        "id": "KVm8uu9OdRxH",
        "outputId": "698e7b34-d74a-43ca-87a1-dc96002b2a92"
      },
      "source": [
        "print(x_train1.shape)\r\n",
        "print(y_train1.shape)\r\n",
        "print(x_test1.shape)\r\n",
        "print(y_test1.shape)"
      ],
      "execution_count": 32,
      "outputs": [
        {
          "output_type": "stream",
          "text": [
            "(54000, 28, 28)\n",
            "(54000,)\n",
            "(6000, 28, 28)\n",
            "(6000,)\n"
          ],
          "name": "stdout"
        }
      ]
    },
    {
      "cell_type": "code",
      "metadata": {
        "colab": {
          "base_uri": "https://localhost:8080/",
          "height": 282
        },
        "id": "tuKyKeo7dRz-",
        "outputId": "c21c6744-229d-4a79-9fb2-d277aa59685d"
      },
      "source": [
        "import matplotlib.pyplot as plt\r\n",
        "plt.imshow(x_train[0])"
      ],
      "execution_count": 33,
      "outputs": [
        {
          "output_type": "execute_result",
          "data": {
            "text/plain": [
              "<matplotlib.image.AxesImage at 0x7ff6fa21fe90>"
            ]
          },
          "metadata": {
            "tags": []
          },
          "execution_count": 33
        },
        {
          "output_type": "display_data",
          "data": {
            "image/png": "[encoded data removed]",
            "text/plain": [
              "<Figure size 432x288 with 1 Axes>"
            ]
          },
          "metadata": {
            "tags": [],
            "needs_background": "light"
          }
        }
      ]
    },
    {
      "cell_type": "code",
      "metadata": {
        "id": "u01Xs_yteUsw"
      },
      "source": [
        "from tensorflow.keras import layers \r\n",
        "model=tf.keras.models.Sequential()\r\n",
        "\r\n",
        "model.add(layers.Flatten(input_shape=(28,28)))\r\n",
        "model.add(layers.Dense(units=256,activation=tf.nn.relu))\r\n",
        "model.add(layers.Dropout(0.2))\r\n",
        "model.add(layers.Dense(units=128,activation=tf.nn.relu))\r\n",
        "model.add(layers.Dense(units=10,activation=tf.nn.softmax))"
      ],
      "execution_count": 34,
      "outputs": []
    },
    {
      "cell_type": "code",
      "metadata": {
        "colab": {
          "base_uri": "https://localhost:8080/"
        },
        "id": "vQWNzyewfPbB",
        "outputId": "7f24ee23-f3be-4ed9-c0d2-5303d9406e11"
      },
      "source": [
        "model.summary()"
      ],
      "execution_count": 35,
      "outputs": [
        {
          "output_type": "stream",
          "text": [
            "Model: \"sequential_6\"\n",
            "_________________________________________________________________\n",
            "Layer (type)                 Output Shape              Param #   \n",
            "=================================================================\n",
            "flatten_5 (Flatten)          (None, 784)               0         \n",
            "_________________________________________________________________\n",
            "dense_10 (Dense)             (None, 256)               200960    \n",
            "_________________________________________________________________\n",
            "dropout_1 (Dropout)          (None, 256)               0         \n",
            "_________________________________________________________________\n",
            "dense_11 (Dense)             (None, 128)               32896     \n",
            "_________________________________________________________________\n",
            "dense_12 (Dense)             (None, 10)                1290      \n",
            "=================================================================\n",
            "Total params: 235,146\n",
            "Trainable params: 235,146\n",
            "Non-trainable params: 0\n",
            "_________________________________________________________________\n"
          ],
          "name": "stdout"
        }
      ]
    },
    {
      "cell_type": "code",
      "metadata": {
        "id": "PZkqJK2SgUaI"
      },
      "source": [
        "model.compile(optimizer='adam',\r\n",
        "              loss='sparse_categorical_crossentropy',\r\n",
        "              metrics=['accuracy'])"
      ],
      "execution_count": 36,
      "outputs": []
    },
    {
      "cell_type": "code",
      "metadata": {
        "colab": {
          "base_uri": "https://localhost:8080/"
        },
        "id": "hBOOz0PXgqAf",
        "outputId": "8912821c-5ce0-421e-880d-30f450088b54"
      },
      "source": [
        "model.fit(x_train1,y_train1,epochs=100,validation_data=(x_test1,y_test1))"
      ],
      "execution_count": 37,
      "outputs": [
        {
          "output_type": "stream",
          "text": [
            "Epoch 1/100\n",
            "1688/1688 [==============================] - 7s 4ms/step - loss: 0.4105 - accuracy: 0.8756 - val_loss: 0.1186 - val_accuracy: 0.9632\n",
            "Epoch 2/100\n",
            "1688/1688 [==============================] - 6s 4ms/step - loss: 0.1158 - accuracy: 0.9651 - val_loss: 0.0945 - val_accuracy: 0.9702\n",
            "Epoch 3/100\n",
            "1688/1688 [==============================] - 6s 3ms/step - loss: 0.0841 - accuracy: 0.9726 - val_loss: 0.0788 - val_accuracy: 0.9750\n",
            "Epoch 4/100\n",
            "1688/1688 [==============================] - 6s 4ms/step - loss: 0.0663 - accuracy: 0.9778 - val_loss: 0.0831 - val_accuracy: 0.9740\n",
            "Epoch 5/100\n",
            "1688/1688 [==============================] - 6s 3ms/step - loss: 0.0593 - accuracy: 0.9812 - val_loss: 0.0661 - val_accuracy: 0.9792\n",
            "Epoch 6/100\n",
            "1688/1688 [==============================] - 6s 3ms/step - loss: 0.0506 - accuracy: 0.9834 - val_loss: 0.0667 - val_accuracy: 0.9802\n",
            "Epoch 7/100\n",
            "1688/1688 [==============================] - 6s 3ms/step - loss: 0.0398 - accuracy: 0.9858 - val_loss: 0.0700 - val_accuracy: 0.9775\n",
            "Epoch 8/100\n",
            "1688/1688 [==============================] - 6s 3ms/step - loss: 0.0371 - accuracy: 0.9877 - val_loss: 0.0678 - val_accuracy: 0.9828\n",
            "Epoch 9/100\n",
            "1688/1688 [==============================] - 6s 3ms/step - loss: 0.0342 - accuracy: 0.9885 - val_loss: 0.0823 - val_accuracy: 0.9795\n",
            "Epoch 10/100\n",
            "1688/1688 [==============================] - 6s 3ms/step - loss: 0.0307 - accuracy: 0.9895 - val_loss: 0.0802 - val_accuracy: 0.9812\n",
            "Epoch 11/100\n",
            "1688/1688 [==============================] - 6s 3ms/step - loss: 0.0307 - accuracy: 0.9899 - val_loss: 0.0767 - val_accuracy: 0.9815\n",
            "Epoch 12/100\n",
            "1688/1688 [==============================] - 6s 3ms/step - loss: 0.0262 - accuracy: 0.9906 - val_loss: 0.0755 - val_accuracy: 0.9808\n",
            "Epoch 13/100\n",
            "1688/1688 [==============================] - 6s 3ms/step - loss: 0.0246 - accuracy: 0.9916 - val_loss: 0.0862 - val_accuracy: 0.9798\n",
            "Epoch 14/100\n",
            "1688/1688 [==============================] - 6s 3ms/step - loss: 0.0254 - accuracy: 0.9920 - val_loss: 0.0855 - val_accuracy: 0.9812\n",
            "Epoch 15/100\n",
            "1688/1688 [==============================] - 6s 4ms/step - loss: 0.0236 - accuracy: 0.9918 - val_loss: 0.0762 - val_accuracy: 0.9810\n",
            "Epoch 16/100\n",
            "1688/1688 [==============================] - 6s 3ms/step - loss: 0.0221 - accuracy: 0.9925 - val_loss: 0.0861 - val_accuracy: 0.9813\n",
            "Epoch 17/100\n",
            "1688/1688 [==============================] - 6s 3ms/step - loss: 0.0246 - accuracy: 0.9919 - val_loss: 0.0796 - val_accuracy: 0.9815\n",
            "Epoch 18/100\n",
            "1688/1688 [==============================] - 6s 3ms/step - loss: 0.0204 - accuracy: 0.9933 - val_loss: 0.0809 - val_accuracy: 0.9810\n",
            "Epoch 19/100\n",
            "1688/1688 [==============================] - 6s 3ms/step - loss: 0.0195 - accuracy: 0.9936 - val_loss: 0.0806 - val_accuracy: 0.9830\n",
            "Epoch 20/100\n",
            "1688/1688 [==============================] - 6s 3ms/step - loss: 0.0197 - accuracy: 0.9935 - val_loss: 0.0885 - val_accuracy: 0.9822\n",
            "Epoch 21/100\n",
            "1688/1688 [==============================] - 6s 3ms/step - loss: 0.0220 - accuracy: 0.9932 - val_loss: 0.0799 - val_accuracy: 0.9833\n",
            "Epoch 22/100\n",
            "1688/1688 [==============================] - 6s 3ms/step - loss: 0.0187 - accuracy: 0.9940 - val_loss: 0.0856 - val_accuracy: 0.9823\n",
            "Epoch 23/100\n",
            "1688/1688 [==============================] - 6s 3ms/step - loss: 0.0169 - accuracy: 0.9945 - val_loss: 0.0869 - val_accuracy: 0.9822\n",
            "Epoch 24/100\n",
            "1688/1688 [==============================] - 6s 3ms/step - loss: 0.0167 - accuracy: 0.9950 - val_loss: 0.0789 - val_accuracy: 0.9865\n",
            "Epoch 25/100\n",
            "1688/1688 [==============================] - 6s 3ms/step - loss: 0.0210 - accuracy: 0.9939 - val_loss: 0.1048 - val_accuracy: 0.9812\n",
            "Epoch 26/100\n",
            "1688/1688 [==============================] - 6s 3ms/step - loss: 0.0196 - accuracy: 0.9940 - val_loss: 0.0939 - val_accuracy: 0.9818\n",
            "Epoch 27/100\n",
            "1688/1688 [==============================] - 6s 3ms/step - loss: 0.0184 - accuracy: 0.9943 - val_loss: 0.0913 - val_accuracy: 0.9828\n",
            "Epoch 28/100\n",
            "1688/1688 [==============================] - 6s 3ms/step - loss: 0.0183 - accuracy: 0.9947 - val_loss: 0.0967 - val_accuracy: 0.9818\n",
            "Epoch 29/100\n",
            "1688/1688 [==============================] - 6s 3ms/step - loss: 0.0152 - accuracy: 0.9954 - val_loss: 0.1087 - val_accuracy: 0.9795\n",
            "Epoch 30/100\n",
            "1688/1688 [==============================] - 6s 3ms/step - loss: 0.0169 - accuracy: 0.9950 - val_loss: 0.0942 - val_accuracy: 0.9822\n",
            "Epoch 31/100\n",
            "1688/1688 [==============================] - 6s 3ms/step - loss: 0.0139 - accuracy: 0.9956 - val_loss: 0.0989 - val_accuracy: 0.9822\n",
            "Epoch 32/100\n",
            "1688/1688 [==============================] - 6s 3ms/step - loss: 0.0155 - accuracy: 0.9949 - val_loss: 0.0905 - val_accuracy: 0.9827\n",
            "Epoch 33/100\n",
            "1688/1688 [==============================] - 6s 3ms/step - loss: 0.0157 - accuracy: 0.9950 - val_loss: 0.0885 - val_accuracy: 0.9838\n",
            "Epoch 34/100\n",
            "1688/1688 [==============================] - 6s 3ms/step - loss: 0.0144 - accuracy: 0.9957 - val_loss: 0.0856 - val_accuracy: 0.9838\n",
            "Epoch 35/100\n",
            "1688/1688 [==============================] - 6s 3ms/step - loss: 0.0132 - accuracy: 0.9961 - val_loss: 0.1073 - val_accuracy: 0.9812\n",
            "Epoch 36/100\n",
            "1688/1688 [==============================] - 6s 3ms/step - loss: 0.0137 - accuracy: 0.9954 - val_loss: 0.0825 - val_accuracy: 0.9833\n",
            "Epoch 37/100\n",
            "1688/1688 [==============================] - 6s 3ms/step - loss: 0.0099 - accuracy: 0.9969 - val_loss: 0.0963 - val_accuracy: 0.9835\n",
            "Epoch 38/100\n",
            "1688/1688 [==============================] - 6s 3ms/step - loss: 0.0144 - accuracy: 0.9954 - val_loss: 0.0804 - val_accuracy: 0.9843\n",
            "Epoch 39/100\n",
            "1688/1688 [==============================] - 6s 3ms/step - loss: 0.0151 - accuracy: 0.9952 - val_loss: 0.1030 - val_accuracy: 0.9828\n",
            "Epoch 40/100\n",
            "1688/1688 [==============================] - 6s 3ms/step - loss: 0.0154 - accuracy: 0.9956 - val_loss: 0.1066 - val_accuracy: 0.9848\n",
            "Epoch 41/100\n",
            "1688/1688 [==============================] - 6s 3ms/step - loss: 0.0143 - accuracy: 0.9957 - val_loss: 0.1035 - val_accuracy: 0.9838\n",
            "Epoch 42/100\n",
            "1688/1688 [==============================] - 6s 3ms/step - loss: 0.0138 - accuracy: 0.9961 - val_loss: 0.1059 - val_accuracy: 0.9832\n",
            "Epoch 43/100\n",
            "1688/1688 [==============================] - 6s 3ms/step - loss: 0.0138 - accuracy: 0.9960 - val_loss: 0.1008 - val_accuracy: 0.9822\n",
            "Epoch 44/100\n",
            "1688/1688 [==============================] - 6s 3ms/step - loss: 0.0145 - accuracy: 0.9958 - val_loss: 0.0939 - val_accuracy: 0.9848\n",
            "Epoch 45/100\n",
            "1688/1688 [==============================] - 6s 3ms/step - loss: 0.0113 - accuracy: 0.9963 - val_loss: 0.0931 - val_accuracy: 0.9837\n",
            "Epoch 46/100\n",
            "1688/1688 [==============================] - 6s 3ms/step - loss: 0.0141 - accuracy: 0.9955 - val_loss: 0.1084 - val_accuracy: 0.9843\n",
            "Epoch 47/100\n",
            "1688/1688 [==============================] - 6s 3ms/step - loss: 0.0141 - accuracy: 0.9962 - val_loss: 0.0986 - val_accuracy: 0.9842\n",
            "Epoch 48/100\n",
            "1688/1688 [==============================] - 6s 3ms/step - loss: 0.0105 - accuracy: 0.9969 - val_loss: 0.1047 - val_accuracy: 0.9848\n",
            "Epoch 49/100\n",
            "1688/1688 [==============================] - 6s 3ms/step - loss: 0.0132 - accuracy: 0.9964 - val_loss: 0.0997 - val_accuracy: 0.9853\n",
            "Epoch 50/100\n",
            "1688/1688 [==============================] - 5s 3ms/step - loss: 0.0155 - accuracy: 0.9962 - val_loss: 0.1117 - val_accuracy: 0.9838\n",
            "Epoch 51/100\n",
            "1688/1688 [==============================] - 6s 3ms/step - loss: 0.0180 - accuracy: 0.9955 - val_loss: 0.0975 - val_accuracy: 0.9862\n",
            "Epoch 52/100\n",
            "1688/1688 [==============================] - 5s 3ms/step - loss: 0.0097 - accuracy: 0.9963 - val_loss: 0.1048 - val_accuracy: 0.9847\n",
            "Epoch 53/100\n",
            "1688/1688 [==============================] - 6s 3ms/step - loss: 0.0116 - accuracy: 0.9970 - val_loss: 0.1223 - val_accuracy: 0.9835\n",
            "Epoch 54/100\n",
            "1688/1688 [==============================] - 5s 3ms/step - loss: 0.0128 - accuracy: 0.9967 - val_loss: 0.1216 - val_accuracy: 0.9832\n",
            "Epoch 55/100\n",
            "1688/1688 [==============================] - 6s 3ms/step - loss: 0.0152 - accuracy: 0.9961 - val_loss: 0.1204 - val_accuracy: 0.9837\n",
            "Epoch 56/100\n",
            "1688/1688 [==============================] - 6s 3ms/step - loss: 0.0154 - accuracy: 0.9960 - val_loss: 0.1112 - val_accuracy: 0.9848\n",
            "Epoch 57/100\n",
            "1688/1688 [==============================] - 5s 3ms/step - loss: 0.0145 - accuracy: 0.9963 - val_loss: 0.0959 - val_accuracy: 0.9852\n",
            "Epoch 58/100\n",
            "1688/1688 [==============================] - 6s 3ms/step - loss: 0.0101 - accuracy: 0.9969 - val_loss: 0.1083 - val_accuracy: 0.9843\n",
            "Epoch 59/100\n",
            "1688/1688 [==============================] - 6s 3ms/step - loss: 0.0104 - accuracy: 0.9972 - val_loss: 0.1090 - val_accuracy: 0.9855\n",
            "Epoch 60/100\n",
            "1688/1688 [==============================] - 6s 3ms/step - loss: 0.0098 - accuracy: 0.9973 - val_loss: 0.1105 - val_accuracy: 0.9847\n",
            "Epoch 61/100\n",
            "1688/1688 [==============================] - 6s 3ms/step - loss: 0.0107 - accuracy: 0.9965 - val_loss: 0.1212 - val_accuracy: 0.9848\n",
            "Epoch 62/100\n",
            "1688/1688 [==============================] - 5s 3ms/step - loss: 0.0149 - accuracy: 0.9963 - val_loss: 0.1194 - val_accuracy: 0.9848\n",
            "Epoch 63/100\n",
            "1688/1688 [==============================] - 5s 3ms/step - loss: 0.0127 - accuracy: 0.9969 - val_loss: 0.1081 - val_accuracy: 0.9858\n",
            "Epoch 64/100\n",
            "1688/1688 [==============================] - 5s 3ms/step - loss: 0.0120 - accuracy: 0.9968 - val_loss: 0.1132 - val_accuracy: 0.9858\n",
            "Epoch 65/100\n",
            "1688/1688 [==============================] - 5s 3ms/step - loss: 0.0126 - accuracy: 0.9967 - val_loss: 0.1163 - val_accuracy: 0.9832\n",
            "Epoch 66/100\n",
            "1688/1688 [==============================] - 5s 3ms/step - loss: 0.0095 - accuracy: 0.9974 - val_loss: 0.1168 - val_accuracy: 0.9832\n",
            "Epoch 67/100\n",
            "1688/1688 [==============================] - 5s 3ms/step - loss: 0.0065 - accuracy: 0.9982 - val_loss: 0.1247 - val_accuracy: 0.9847\n",
            "Epoch 68/100\n",
            "1688/1688 [==============================] - 5s 3ms/step - loss: 0.0148 - accuracy: 0.9967 - val_loss: 0.1170 - val_accuracy: 0.9850\n",
            "Epoch 69/100\n",
            "1688/1688 [==============================] - 5s 3ms/step - loss: 0.0083 - accuracy: 0.9978 - val_loss: 0.1271 - val_accuracy: 0.9830\n",
            "Epoch 70/100\n",
            "1688/1688 [==============================] - 5s 3ms/step - loss: 0.0118 - accuracy: 0.9968 - val_loss: 0.1169 - val_accuracy: 0.9847\n",
            "Epoch 71/100\n",
            "1688/1688 [==============================] - 5s 3ms/step - loss: 0.0122 - accuracy: 0.9968 - val_loss: 0.1153 - val_accuracy: 0.9823\n",
            "Epoch 72/100\n",
            "1688/1688 [==============================] - 6s 3ms/step - loss: 0.0123 - accuracy: 0.9971 - val_loss: 0.1057 - val_accuracy: 0.9870\n",
            "Epoch 73/100\n",
            "1688/1688 [==============================] - 6s 3ms/step - loss: 0.0122 - accuracy: 0.9969 - val_loss: 0.1205 - val_accuracy: 0.9842\n",
            "Epoch 74/100\n",
            "1688/1688 [==============================] - 6s 3ms/step - loss: 0.0110 - accuracy: 0.9971 - val_loss: 0.1190 - val_accuracy: 0.9850\n",
            "Epoch 75/100\n",
            "1688/1688 [==============================] - 6s 3ms/step - loss: 0.0122 - accuracy: 0.9972 - val_loss: 0.1302 - val_accuracy: 0.9838\n",
            "Epoch 76/100\n",
            "1688/1688 [==============================] - 6s 3ms/step - loss: 0.0120 - accuracy: 0.9972 - val_loss: 0.1217 - val_accuracy: 0.9833\n",
            "Epoch 77/100\n",
            "1688/1688 [==============================] - 6s 3ms/step - loss: 0.0090 - accuracy: 0.9978 - val_loss: 0.1471 - val_accuracy: 0.9828\n",
            "Epoch 78/100\n",
            "1688/1688 [==============================] - 6s 3ms/step - loss: 0.0128 - accuracy: 0.9967 - val_loss: 0.1280 - val_accuracy: 0.9838\n",
            "Epoch 79/100\n",
            "1688/1688 [==============================] - 6s 3ms/step - loss: 0.0104 - accuracy: 0.9969 - val_loss: 0.1488 - val_accuracy: 0.9837\n",
            "Epoch 80/100\n",
            "1688/1688 [==============================] - 6s 3ms/step - loss: 0.0081 - accuracy: 0.9976 - val_loss: 0.1425 - val_accuracy: 0.9842\n",
            "Epoch 81/100\n",
            "1688/1688 [==============================] - 6s 3ms/step - loss: 0.0084 - accuracy: 0.9978 - val_loss: 0.1577 - val_accuracy: 0.9845\n",
            "Epoch 82/100\n",
            "1688/1688 [==============================] - 6s 3ms/step - loss: 0.0131 - accuracy: 0.9973 - val_loss: 0.1456 - val_accuracy: 0.9837\n",
            "Epoch 83/100\n",
            "1688/1688 [==============================] - 6s 3ms/step - loss: 0.0101 - accuracy: 0.9971 - val_loss: 0.1429 - val_accuracy: 0.9822\n",
            "Epoch 84/100\n",
            "1688/1688 [==============================] - 5s 3ms/step - loss: 0.0124 - accuracy: 0.9970 - val_loss: 0.1435 - val_accuracy: 0.9825\n",
            "Epoch 85/100\n",
            "1688/1688 [==============================] - 6s 3ms/step - loss: 0.0113 - accuracy: 0.9975 - val_loss: 0.1372 - val_accuracy: 0.9855\n",
            "Epoch 86/100\n",
            "1688/1688 [==============================] - 5s 3ms/step - loss: 0.0106 - accuracy: 0.9976 - val_loss: 0.1410 - val_accuracy: 0.9833\n",
            "Epoch 87/100\n",
            "1688/1688 [==============================] - 6s 3ms/step - loss: 0.0101 - accuracy: 0.9973 - val_loss: 0.1399 - val_accuracy: 0.9835\n",
            "Epoch 88/100\n",
            "1688/1688 [==============================] - 6s 3ms/step - loss: 0.0100 - accuracy: 0.9972 - val_loss: 0.1334 - val_accuracy: 0.9848\n",
            "Epoch 89/100\n",
            "1688/1688 [==============================] - 6s 3ms/step - loss: 0.0100 - accuracy: 0.9975 - val_loss: 0.1413 - val_accuracy: 0.9850\n",
            "Epoch 90/100\n",
            "1688/1688 [==============================] - 6s 3ms/step - loss: 0.0127 - accuracy: 0.9969 - val_loss: 0.1252 - val_accuracy: 0.9858\n",
            "Epoch 91/100\n",
            "1688/1688 [==============================] - 6s 3ms/step - loss: 0.0103 - accuracy: 0.9974 - val_loss: 0.1384 - val_accuracy: 0.9855\n",
            "Epoch 92/100\n",
            "1688/1688 [==============================] - 5s 3ms/step - loss: 0.0123 - accuracy: 0.9974 - val_loss: 0.1206 - val_accuracy: 0.9842\n",
            "Epoch 93/100\n",
            "1688/1688 [==============================] - 6s 3ms/step - loss: 0.0080 - accuracy: 0.9980 - val_loss: 0.1208 - val_accuracy: 0.9847\n",
            "Epoch 94/100\n",
            "1688/1688 [==============================] - 6s 3ms/step - loss: 0.0110 - accuracy: 0.9972 - val_loss: 0.1359 - val_accuracy: 0.9850\n",
            "Epoch 95/100\n",
            "1688/1688 [==============================] - 6s 3ms/step - loss: 0.0126 - accuracy: 0.9972 - val_loss: 0.1584 - val_accuracy: 0.9828\n",
            "Epoch 96/100\n",
            "1688/1688 [==============================] - 6s 3ms/step - loss: 0.0117 - accuracy: 0.9971 - val_loss: 0.1432 - val_accuracy: 0.9852\n",
            "Epoch 97/100\n",
            "1688/1688 [==============================] - 6s 3ms/step - loss: 0.0103 - accuracy: 0.9973 - val_loss: 0.1297 - val_accuracy: 0.9852\n",
            "Epoch 98/100\n",
            "1688/1688 [==============================] - 6s 3ms/step - loss: 0.0114 - accuracy: 0.9973 - val_loss: 0.1510 - val_accuracy: 0.9847\n",
            "Epoch 99/100\n",
            "1688/1688 [==============================] - 6s 3ms/step - loss: 0.0104 - accuracy: 0.9974 - val_loss: 0.1510 - val_accuracy: 0.9838\n",
            "Epoch 100/100\n",
            "1688/1688 [==============================] - 6s 3ms/step - loss: 0.0093 - accuracy: 0.9974 - val_loss: 0.1562 - val_accuracy: 0.9845\n"
          ],
          "name": "stdout"
        },
        {
          "output_type": "execute_result",
          "data": {
            "text/plain": [
              "<tensorflow.python.keras.callbacks.History at 0x7ff6fa15f650>"
            ]
          },
          "metadata": {
            "tags": []
          },
          "execution_count": 37
        }
      ]
    },
    {
      "cell_type": "code",
      "metadata": {
        "id": "rtiUtQa5gynR"
      },
      "source": [
        ""
      ],
      "execution_count": null,
      "outputs": []
    }
  ]
}