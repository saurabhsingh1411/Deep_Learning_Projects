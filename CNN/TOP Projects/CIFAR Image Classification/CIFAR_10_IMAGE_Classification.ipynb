{
  "nbformat": 4,
  "nbformat_minor": 0,
  "metadata": {
    "colab": {
      "name": "CIFAR 10 IMAGE Classification.ipynb",
      "provenance": [],
      "collapsed_sections": [],
      "authorship_tag": "ABX9TyPTJ2FMjB3jNF3kVN9rLzVf",
      "include_colab_link": true
    },
    "kernelspec": {
      "name": "python3",
      "display_name": "Python 3"
    },
    "language_info": {
      "name": "python"
    }
  },
  "cells": [
    {
      "cell_type": "markdown",
      "metadata": {
        "id": "view-in-github",
        "colab_type": "text"
      },
      "source": [
        "<a href=\"https://colab.research.google.com/github/saurabhsingh1411/Deep_Learning_Projects/blob/main/CNN/TOP%20Projects/CIFAR%20Image%20Classification/CIFAR_10_IMAGE_Classification.ipynb\" target=\"_parent\"><img src=\"https://colab.research.google.com/assets/colab-badge.svg\" alt=\"Open In Colab\"/></a>"
      ]
    },
    {
      "cell_type": "code",
      "metadata": {
        "id": "8xQAx_KOb1N_"
      },
      "source": [
        "import tensorflow as tf\n",
        "import numpy as np\n",
        "import pandas as pd \n",
        "import matplotlib.pyplot as plt"
      ],
      "execution_count": 14,
      "outputs": []
    },
    {
      "cell_type": "code",
      "metadata": {
        "id": "2S0RUaCRcDyB"
      },
      "source": [
        "from tensorflow.keras.datasets import cifar10\n",
        "\n",
        "(X_train,y_train),(X_test,y_test)=cifar10.load_data()"
      ],
      "execution_count": 15,
      "outputs": []
    },
    {
      "cell_type": "code",
      "metadata": {
        "colab": {
          "base_uri": "https://localhost:8080/"
        },
        "id": "Gn2ejl_vgaTn",
        "outputId": "7428eceb-6a78-4071-c8b4-b4e3cead6053"
      },
      "source": [
        "print(X_train.shape)\n",
        "print(y_train.shape)\n",
        "print(X_test.shape)\n",
        "print(y_test.shape)"
      ],
      "execution_count": 16,
      "outputs": [
        {
          "output_type": "stream",
          "text": [
            "(50000, 32, 32, 3)\n",
            "(50000, 1)\n",
            "(10000, 32, 32, 3)\n",
            "(10000, 1)\n"
          ],
          "name": "stdout"
        }
      ]
    },
    {
      "cell_type": "code",
      "metadata": {
        "colab": {
          "base_uri": "https://localhost:8080/",
          "height": 283
        },
        "id": "ogzViKXLg1G-",
        "outputId": "91d6e03b-569f-460b-e541-2b79dbb7026a"
      },
      "source": [
        "plt.imshow(X_train[1])\n",
        "plt.figure(figsize=(200,100))\n",
        "plt.show()"
      ],
      "execution_count": 17,
      "outputs": [
        {
          "output_type": "display_data",
          "data": {
            "image/png": "[encoded data removed]",
            "text/plain": [
              "<Figure size 432x288 with 1 Axes>"
            ]
          },
          "metadata": {
            "tags": [],
            "needs_background": "light"
          }
        },
        {
          "output_type": "display_data",
          "data": {
            "text/plain": [
              "<Figure size 14400x7200 with 0 Axes>"
            ]
          },
          "metadata": {
            "tags": []
          }
        }
      ]
    },
    {
      "cell_type": "code",
      "metadata": {
        "colab": {
          "base_uri": "https://localhost:8080/"
        },
        "id": "6TYmqbeLg-fP",
        "outputId": "beaf219a-9198-4008-cd81-71a3b5cecbce"
      },
      "source": [
        "print(y_train[1])"
      ],
      "execution_count": 18,
      "outputs": [
        {
          "output_type": "stream",
          "text": [
            "[9]\n"
          ],
          "name": "stdout"
        }
      ]
    },
    {
      "cell_type": "code",
      "metadata": {
        "id": "1TH6R-obhmcm"
      },
      "source": [
        "def preprocss(img):\n",
        "  img=img.astype('float32')\n",
        "  img=img/255.0\n",
        "\n",
        "  return img"
      ],
      "execution_count": 19,
      "outputs": []
    },
    {
      "cell_type": "code",
      "metadata": {
        "id": "ntHECZ2_iMqZ"
      },
      "source": [
        "X_train=preprocss(X_train)\n",
        "X_test=preprocss(X_test)"
      ],
      "execution_count": 20,
      "outputs": []
    },
    {
      "cell_type": "code",
      "metadata": {
        "id": "T-YY-hWsj_Qs"
      },
      "source": [
        "y_train=np_utils.to_categorical(y_train)\n",
        "y_test=np_utils.to_categorical(y_test)"
      ],
      "execution_count": 30,
      "outputs": []
    },
    {
      "cell_type": "code",
      "metadata": {
        "id": "53i1_HKAhmnK"
      },
      "source": [
        "from keras.models import Sequential\n",
        "from keras.layers import Dense\n",
        "from keras.layers import Dropout\n",
        "from keras.layers import Flatten\n",
        "from keras.constraints import maxnorm\n",
        "from keras.optimizers import SGD\n",
        "from keras.layers.convolutional import Conv2D\n",
        "from keras.layers.convolutional import MaxPooling2D\n",
        "from keras.utils import np_utils"
      ],
      "execution_count": 31,
      "outputs": []
    },
    {
      "cell_type": "code",
      "metadata": {
        "colab": {
          "base_uri": "https://localhost:8080/"
        },
        "id": "UI4wlqNlhm0k",
        "outputId": "f0ed18dd-4df2-4b32-fac8-0650be35e98b"
      },
      "source": [
        "print(y_test.shape[1])"
      ],
      "execution_count": 32,
      "outputs": [
        {
          "output_type": "stream",
          "text": [
            "10\n"
          ],
          "name": "stdout"
        }
      ]
    },
    {
      "cell_type": "code",
      "metadata": {
        "colab": {
          "base_uri": "https://localhost:8080/"
        },
        "id": "eG9JdEYShCyO",
        "outputId": "a1b16039-8c2b-4c38-bb94-2e5a2011ac3d"
      },
      "source": [
        "model=Sequential()\n",
        "model.add(Conv2D(32,(3,3),input_shape=(32,32,3),\n",
        "    padding='same',activation='relu',\n",
        "    kernel_constraint=maxnorm(3)))\n",
        "model.add(Dropout(0.2))\n",
        "model.add(Conv2D(32,(3,3),activation='relu',padding='same',kernel_constraint=maxnorm(3)))\n",
        "model.add(MaxPooling2D(pool_size=(2,2)))\n",
        "model.add(Flatten())\n",
        "model.add(Dense(512,activation='relu',kernel_constraint=maxnorm(3)))\n",
        "model.add(Dropout(0.5))\n",
        "model.add(Dense(10, activation='softmax'))\n",
        "\n",
        "model.summary()"
      ],
      "execution_count": 33,
      "outputs": [
        {
          "output_type": "stream",
          "text": [
            "Model: \"sequential_1\"\n",
            "_________________________________________________________________\n",
            "Layer (type)                 Output Shape              Param #   \n",
            "=================================================================\n",
            "conv2d_2 (Conv2D)            (None, 32, 32, 32)        896       \n",
            "_________________________________________________________________\n",
            "dropout_2 (Dropout)          (None, 32, 32, 32)        0         \n",
            "_________________________________________________________________\n",
            "conv2d_3 (Conv2D)            (None, 32, 32, 32)        9248      \n",
            "_________________________________________________________________\n",
            "max_pooling2d_1 (MaxPooling2 (None, 16, 16, 32)        0         \n",
            "_________________________________________________________________\n",
            "flatten_1 (Flatten)          (None, 8192)              0         \n",
            "_________________________________________________________________\n",
            "dense_2 (Dense)              (None, 512)               4194816   \n",
            "_________________________________________________________________\n",
            "dropout_3 (Dropout)          (None, 512)               0         \n",
            "_________________________________________________________________\n",
            "dense_3 (Dense)              (None, 10)                5130      \n",
            "=================================================================\n",
            "Total params: 4,210,090\n",
            "Trainable params: 4,210,090\n",
            "Non-trainable params: 0\n",
            "_________________________________________________________________\n"
          ],
          "name": "stdout"
        }
      ]
    },
    {
      "cell_type": "code",
      "metadata": {
        "id": "OLbZzBFCjeqX"
      },
      "source": [
        "model.compile(loss='categorical_crossentropy',\n",
        "  optimizer='adam',\n",
        "  metrics=['accuracy'])"
      ],
      "execution_count": 34,
      "outputs": []
    },
    {
      "cell_type": "code",
      "metadata": {
        "colab": {
          "base_uri": "https://localhost:8080/"
        },
        "id": "tLB2z3Zgjob9",
        "outputId": "3248b952-f836-4c2f-fba6-dfd6b66a80ff"
      },
      "source": [
        "history=model.fit(X_train,y_train,validation_data=(X_test,y_test),epochs=10)"
      ],
      "execution_count": 35,
      "outputs": [
        {
          "output_type": "stream",
          "text": [
            "Epoch 1/10\n",
            "1563/1563 [==============================] - 208s 133ms/step - loss: 1.7129 - accuracy: 0.3757 - val_loss: 1.1641 - val_accuracy: 0.5839\n",
            "Epoch 2/10\n",
            "1563/1563 [==============================] - 207s 133ms/step - loss: 1.1555 - accuracy: 0.5881 - val_loss: 1.1141 - val_accuracy: 0.6098\n",
            "Epoch 3/10\n",
            "1563/1563 [==============================] - 211s 135ms/step - loss: 1.0233 - accuracy: 0.6375 - val_loss: 1.0021 - val_accuracy: 0.6544\n",
            "Epoch 4/10\n",
            "1563/1563 [==============================] - 211s 135ms/step - loss: 0.9485 - accuracy: 0.6627 - val_loss: 0.9358 - val_accuracy: 0.6737\n",
            "Epoch 5/10\n",
            "1563/1563 [==============================] - 210s 134ms/step - loss: 0.8983 - accuracy: 0.6853 - val_loss: 0.9109 - val_accuracy: 0.6855\n",
            "Epoch 6/10\n",
            "1563/1563 [==============================] - 210s 135ms/step - loss: 0.8585 - accuracy: 0.6950 - val_loss: 0.9181 - val_accuracy: 0.6829\n",
            "Epoch 7/10\n",
            "1563/1563 [==============================] - 211s 135ms/step - loss: 0.8087 - accuracy: 0.7142 - val_loss: 0.8891 - val_accuracy: 0.6906\n",
            "Epoch 8/10\n",
            "1563/1563 [==============================] - 212s 136ms/step - loss: 0.7759 - accuracy: 0.7264 - val_loss: 0.8674 - val_accuracy: 0.6960\n",
            "Epoch 9/10\n",
            "1563/1563 [==============================] - 212s 135ms/step - loss: 0.7539 - accuracy: 0.7345 - val_loss: 0.8534 - val_accuracy: 0.7006\n",
            "Epoch 10/10\n",
            "1563/1563 [==============================] - 212s 136ms/step - loss: 0.7340 - accuracy: 0.7425 - val_loss: 0.8663 - val_accuracy: 0.6999\n"
          ],
          "name": "stdout"
        }
      ]
    },
    {
      "cell_type": "code",
      "metadata": {
        "colab": {
          "base_uri": "https://localhost:8080/"
        },
        "id": "3phLehoVtOIf",
        "outputId": "e78845dc-0c55-43f6-bfff-ecb2c9fab6e1"
      },
      "source": [
        "y_pred=model.predict(X_test)\n",
        "y_pred"
      ],
      "execution_count": 39,
      "outputs": [
        {
          "output_type": "execute_result",
          "data": {
            "text/plain": [
              "array([[3.1241272e-03, 2.6148194e-04, 3.2777201e-02, ..., 4.6475772e-03,\n",
              "        2.2065518e-02, 3.5616709e-04],\n",
              "       [1.1604759e-02, 1.8031791e-01, 2.6221778e-06, ..., 1.9361561e-09,\n",
              "        8.0797929e-01, 9.5278236e-05],\n",
              "       [9.3338169e-02, 9.8215483e-02, 1.2801434e-02, ..., 1.0989299e-03,\n",
              "        7.5065947e-01, 3.2739133e-02],\n",
              "       ...,\n",
              "       [4.0899394e-03, 6.2378102e-05, 2.1559061e-01, ..., 4.5139518e-02,\n",
              "        1.4096814e-03, 8.4152445e-05],\n",
              "       [8.5130014e-02, 3.0996132e-01, 4.7236282e-02, ..., 9.8235216e-03,\n",
              "        1.8562580e-02, 2.5060044e-03],\n",
              "       [7.4976861e-06, 8.4109428e-07, 6.6458574e-04, ..., 9.3217582e-01,\n",
              "        5.3256753e-07, 8.0615137e-06]], dtype=float32)"
            ]
          },
          "metadata": {
            "tags": []
          },
          "execution_count": 39
        }
      ]
    },
    {
      "cell_type": "code",
      "metadata": {
        "colab": {
          "base_uri": "https://localhost:8080/"
        },
        "id": "9qE_Ct1HtUij",
        "outputId": "93d6e407-3405-4647-b7b9-4ea2707f1e96"
      },
      "source": [
        "y_pred_final=np.argmax(y_pred,axis=-1)\n",
        "y_pred_final"
      ],
      "execution_count": 40,
      "outputs": [
        {
          "output_type": "execute_result",
          "data": {
            "text/plain": [
              "array([5, 8, 8, ..., 5, 4, 7])"
            ]
          },
          "metadata": {
            "tags": []
          },
          "execution_count": 40
        }
      ]
    },
    {
      "cell_type": "code",
      "metadata": {
        "colab": {
          "base_uri": "https://localhost:8080/"
        },
        "id": "IWd46lRitdoD",
        "outputId": "da8fd50b-e4fb-4295-9a4e-00b6fca324df"
      },
      "source": [
        "y_test=np.argmax(y_test,axis=-1)\n",
        "y_test"
      ],
      "execution_count": 42,
      "outputs": [
        {
          "output_type": "execute_result",
          "data": {
            "text/plain": [
              "array([3, 8, 8, ..., 5, 1, 7])"
            ]
          },
          "metadata": {
            "tags": []
          },
          "execution_count": 42
        }
      ]
    },
    {
      "cell_type": "code",
      "metadata": {
        "id": "wzJDm3e5ottk"
      },
      "source": [
        "acc=history.history['accuracy']\n",
        "val_acc=history.history['val_accuracy']\n",
        "\n",
        "loss=history.history['loss']\n",
        "val_loss=history.history['val_loss']\n",
        "\n",
        "length=range(10) # Epochs"
      ],
      "execution_count": 36,
      "outputs": []
    },
    {
      "cell_type": "code",
      "metadata": {
        "colab": {
          "base_uri": "https://localhost:8080/",
          "height": 265
        },
        "id": "JJcQjVSvj7nZ",
        "outputId": "e617d298-f869-4c92-bffb-522f0d8ad827"
      },
      "source": [
        "  import matplotlib.pyplot as plt\n",
        "\n",
        "plt.plot(length,acc,color='red',label='accuracy')\n",
        "plt.plot(length,val_acc,color='blue',label='val_accuracy')\n",
        "plt.legend()\n",
        "\n",
        "plt.show()"
      ],
      "execution_count": 37,
      "outputs": [
        {
          "output_type": "display_data",
          "data": {
            "image/png": "[encoded data removed]",
            "text/plain": [
              "<Figure size 432x288 with 1 Axes>"
            ]
          },
          "metadata": {
            "tags": [],
            "needs_background": "light"
          }
        }
      ]
    },
    {
      "cell_type": "code",
      "metadata": {
        "colab": {
          "base_uri": "https://localhost:8080/",
          "height": 269
        },
        "id": "eRkwpi_Lo3t7",
        "outputId": "5efffa38-1249-4553-c873-2dd86e9f7fd0"
      },
      "source": [
        "import matplotlib.pyplot as plt\n",
        "\n",
        "plt.plot(length,loss,color='red',label='loss')\n",
        "plt.plot(length,val_loss,color='blue',label='val_loss')\n",
        "plt.legend()\n",
        "\n",
        "plt.show()"
      ],
      "execution_count": 38,
      "outputs": [
        {
          "output_type": "display_data",
          "data": {
            "image/png": "[encoded data removed]",
            "text/plain": [
              "<Figure size 432x288 with 1 Axes>"
            ]
          },
          "metadata": {
            "tags": [],
            "needs_background": "light"
          }
        }
      ]
    }
  ]
}