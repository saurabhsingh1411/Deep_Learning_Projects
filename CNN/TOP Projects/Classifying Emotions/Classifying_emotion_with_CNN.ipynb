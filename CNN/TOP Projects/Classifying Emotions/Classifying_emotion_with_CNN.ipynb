{
  "nbformat": 4,
  "nbformat_minor": 0,
  "metadata": {
    "colab": {
      "name": "Classifying_emotion_with_CNN.ipynb",
      "provenance": [],
      "authorship_tag": "ABX9TyOlQqtO5PFJ7yr8afDo7U86",
      "include_colab_link": true
    },
    "kernelspec": {
      "name": "python3",
      "display_name": "Python 3"
    },
    "language_info": {
      "name": "python"
    }
  },
  "cells": [
    {
      "cell_type": "markdown",
      "metadata": {
        "id": "view-in-github",
        "colab_type": "text"
      },
      "source": [
        "<a href=\"https://colab.research.google.com/github/saurabhsingh1411/Deep_Learning_Projects/blob/main/CNN/TOP%20Projects/Classifying%20Emotions/Classifying_emotion_with_CNN.ipynb\" target=\"_parent\"><img src=\"https://colab.research.google.com/assets/colab-badge.svg\" alt=\"Open In Colab\"/></a>"
      ]
    },
    {
      "cell_type": "code",
      "metadata": {
        "id": "29kBNCzBExkM"
      },
      "source": [
        "import tensorflow as tf\n",
        "import os \n",
        "import zipfile "
      ],
      "execution_count": 1,
      "outputs": []
    },
    {
      "cell_type": "code",
      "metadata": {
        "colab": {
          "base_uri": "https://localhost:8080/"
        },
        "id": "ONKS5WPXE9Ti",
        "outputId": "2c1282e3-5f8e-4827-9583-c1fa1616781a"
      },
      "source": [
        "!wget --no-check-certificate \\\n",
        "    \"https://storage.googleapis.com/laurencemoroney-blog.appspot.com/happy-or-sad.zip\" \\\n",
        "    -O \"/tmp/happy-or-sad.zip\""
      ],
      "execution_count": 2,
      "outputs": [
        {
          "output_type": "stream",
          "text": [
            "--2021-05-13 18:04:28--  https://storage.googleapis.com/laurencemoroney-blog.appspot.com/happy-or-sad.zip\n",
            "Resolving storage.googleapis.com (storage.googleapis.com)... 64.233.170.128, 108.177.11.128, 74.125.31.128, ...\n",
            "Connecting to storage.googleapis.com (storage.googleapis.com)|64.233.170.128|:443... connected.\n",
            "HTTP request sent, awaiting response... 200 OK\n",
            "Length: 2670333 (2.5M) [application/zip]\n",
            "Saving to: ‘/tmp/happy-or-sad.zip’\n",
            "\n",
            "/tmp/happy-or-sad.z 100%[===================>]   2.55M  --.-KB/s    in 0.02s   \n",
            "\n",
            "2021-05-13 18:04:28 (127 MB/s) - ‘/tmp/happy-or-sad.zip’ saved [2670333/2670333]\n",
            "\n"
          ],
          "name": "stdout"
        }
      ]
    },
    {
      "cell_type": "code",
      "metadata": {
        "id": "cFEvmvihE93f"
      },
      "source": [
        "zip_ref=zipfile.ZipFile('/tmp/happy-or-sad.zip','r')\n",
        "zip_ref.extractall('/tmp/h-or-s')\n",
        "zip_ref.close()\n"
      ],
      "execution_count": 4,
      "outputs": []
    },
    {
      "cell_type": "code",
      "metadata": {
        "colab": {
          "base_uri": "https://localhost:8080/"
        },
        "id": "0EN1b5dQE9_w",
        "outputId": "44c70bfa-9961-4f9a-a974-6c8b32a51896"
      },
      "source": [
        "from tensorflow.keras.preprocessing.image import ImageDataGenerator\n",
        "\n",
        "train_datagen=ImageDataGenerator(rescale=1/255)\n",
        "\n",
        "train_generator=train_datagen.flow_from_directory('/tmp/h-or-s',\n",
        "                                                  target_size=(150,150),\n",
        "                                                  batch_size=64,\n",
        "                                                  class_mode='binary')"
      ],
      "execution_count": 6,
      "outputs": [
        {
          "output_type": "stream",
          "text": [
            "Found 80 images belonging to 2 classes.\n"
          ],
          "name": "stdout"
        }
      ]
    },
    {
      "cell_type": "code",
      "metadata": {
        "colab": {
          "base_uri": "https://localhost:8080/"
        },
        "id": "ps-Zij6pE-C3",
        "outputId": "24437ecd-98ae-440b-e870-17b469b07127"
      },
      "source": [
        "from tensorflow.keras import layers\n",
        "\n",
        "model=tf.keras.Sequential()\n",
        "\n",
        "model.add(layers.Conv2D(filters=64,kernel_size=(3,3),activation='relu',input_shape=(150,150,3)))\n",
        "model.add(layers.MaxPooling2D(2,2))\n",
        "model.add(layers.Conv2D(filters=32,kernel_size=(3,3),activation='relu',input_shape=(150,150,3)))\n",
        "model.add(layers.MaxPooling2D(2,2))\n",
        "model.add(layers.Conv2D(filters=32,kernel_size=(2,2),activation='relu',input_shape=(150,150,3)))\n",
        "model.add(layers.MaxPooling2D(2,2))\n",
        "model.add(layers.Flatten())\n",
        "model.add(layers.Dense(units=512,activation='relu'))\n",
        "model.add(layers.Dense(units=128,activation='relu'))\n",
        "model.add(layers.Dense(units=1,activation='sigmoid'))\n",
        "\n",
        "model.summary()"
      ],
      "execution_count": 7,
      "outputs": [
        {
          "output_type": "stream",
          "text": [
            "Model: \"sequential\"\n",
            "_________________________________________________________________\n",
            "Layer (type)                 Output Shape              Param #   \n",
            "=================================================================\n",
            "conv2d (Conv2D)              (None, 148, 148, 64)      1792      \n",
            "_________________________________________________________________\n",
            "max_pooling2d (MaxPooling2D) (None, 74, 74, 64)        0         \n",
            "_________________________________________________________________\n",
            "conv2d_1 (Conv2D)            (None, 72, 72, 32)        18464     \n",
            "_________________________________________________________________\n",
            "max_pooling2d_1 (MaxPooling2 (None, 36, 36, 32)        0         \n",
            "_________________________________________________________________\n",
            "conv2d_2 (Conv2D)            (None, 35, 35, 32)        4128      \n",
            "_________________________________________________________________\n",
            "max_pooling2d_2 (MaxPooling2 (None, 17, 17, 32)        0         \n",
            "_________________________________________________________________\n",
            "flatten (Flatten)            (None, 9248)              0         \n",
            "_________________________________________________________________\n",
            "dense (Dense)                (None, 512)               4735488   \n",
            "_________________________________________________________________\n",
            "dense_1 (Dense)              (None, 128)               65664     \n",
            "_________________________________________________________________\n",
            "dense_2 (Dense)              (None, 1)                 129       \n",
            "=================================================================\n",
            "Total params: 4,825,665\n",
            "Trainable params: 4,825,665\n",
            "Non-trainable params: 0\n",
            "_________________________________________________________________\n"
          ],
          "name": "stdout"
        }
      ]
    },
    {
      "cell_type": "code",
      "metadata": {
        "id": "lLcEe0zXE-F4"
      },
      "source": [
        "model.compile(optimizer='rmsprop',loss='binary_crossentropy',metrics=['accuracy'])"
      ],
      "execution_count": 8,
      "outputs": []
    },
    {
      "cell_type": "code",
      "metadata": {
        "colab": {
          "base_uri": "https://localhost:8080/"
        },
        "id": "bSBi4tXDE-I3",
        "outputId": "dcd069cb-e189-4c2e-959f-1902364bab7a"
      },
      "source": [
        "history=model.fit_generator(train_generator\n",
        "                            ,epochs=20)"
      ],
      "execution_count": 11,
      "outputs": [
        {
          "output_type": "stream",
          "text": [
            "/usr/local/lib/python3.7/dist-packages/tensorflow/python/keras/engine/training.py:1844: UserWarning: `Model.fit_generator` is deprecated and will be removed in a future version. Please use `Model.fit`, which supports generators.\n",
            "  warnings.warn('`Model.fit_generator` is deprecated and '\n"
          ],
          "name": "stderr"
        },
        {
          "output_type": "stream",
          "text": [
            "Epoch 1/20\n",
            "2/2 [==============================] - 5s 3s/step - loss: 0.6514 - accuracy: 0.5500\n",
            "Epoch 2/20\n",
            "2/2 [==============================] - 3s 647ms/step - loss: 6.8914 - accuracy: 0.5000\n",
            "Epoch 3/20\n",
            "2/2 [==============================] - 3s 2s/step - loss: 0.7049 - accuracy: 0.4625\n",
            "Epoch 4/20\n",
            "2/2 [==============================] - 3s 644ms/step - loss: 0.6286 - accuracy: 0.5552\n",
            "Epoch 5/20\n",
            "2/2 [==============================] - 3s 2s/step - loss: 0.6231 - accuracy: 0.7833\n",
            "Epoch 6/20\n",
            "2/2 [==============================] - 3s 2s/step - loss: 0.9404 - accuracy: 0.6792\n",
            "Epoch 7/20\n",
            "2/2 [==============================] - 3s 2s/step - loss: 0.5833 - accuracy: 0.7167\n",
            "Epoch 8/20\n",
            "2/2 [==============================] - 3s 632ms/step - loss: 0.3975 - accuracy: 0.7802\n",
            "Epoch 9/20\n",
            "2/2 [==============================] - 3s 657ms/step - loss: 0.5791 - accuracy: 0.6885\n",
            "Epoch 10/20\n",
            "2/2 [==============================] - 3s 652ms/step - loss: 0.3219 - accuracy: 0.8021\n",
            "Epoch 11/20\n",
            "2/2 [==============================] - 3s 650ms/step - loss: 0.2052 - accuracy: 0.9323\n",
            "Epoch 12/20\n",
            "2/2 [==============================] - 3s 2s/step - loss: 0.2204 - accuracy: 0.9417\n",
            "Epoch 13/20\n",
            "2/2 [==============================] - 3s 680ms/step - loss: 0.2538 - accuracy: 0.8021\n",
            "Epoch 14/20\n",
            "2/2 [==============================] - 3s 2s/step - loss: 0.1262 - accuracy: 0.9292\n",
            "Epoch 15/20\n",
            "2/2 [==============================] - 3s 3s/step - loss: 0.1947 - accuracy: 0.9583\n",
            "Epoch 16/20\n",
            "2/2 [==============================] - 4s 723ms/step - loss: 0.1489 - accuracy: 0.9833\n",
            "Epoch 17/20\n",
            "2/2 [==============================] - 3s 660ms/step - loss: 0.1979 - accuracy: 0.8885\n",
            "Epoch 18/20\n",
            "2/2 [==============================] - 3s 720ms/step - loss: 0.1141 - accuracy: 1.0000\n",
            "Epoch 19/20\n",
            "2/2 [==============================] - 3s 757ms/step - loss: 0.2022 - accuracy: 0.8990\n",
            "Epoch 20/20\n",
            "2/2 [==============================] - 4s 720ms/step - loss: 0.5079 - accuracy: 0.8583\n"
          ],
          "name": "stdout"
        }
      ]
    },
    {
      "cell_type": "code",
      "metadata": {
        "id": "N92Ac_iU8LWw"
      },
      "source": [
        "acc=history.history['accuracy']\n",
        "#val_acc=history.history['val_accuracy']\n",
        "\n",
        "loss=history.history['loss']\n",
        "#val_loss=history.history['val_loss']\n",
        "\n",
        "length=range(20) # Epochs"
      ],
      "execution_count": 18,
      "outputs": []
    },
    {
      "cell_type": "code",
      "metadata": {
        "colab": {
          "base_uri": "https://localhost:8080/"
        },
        "id": "XCP2Kdbi-1Sa",
        "outputId": "fc6d787c-9649-40cf-efe2-6b8233997721"
      },
      "source": [
        "acc"
      ],
      "execution_count": 17,
      "outputs": [
        {
          "output_type": "execute_result",
          "data": {
            "text/plain": [
              "[0.574999988079071,\n",
              " 0.5,\n",
              " 0.4749999940395355,\n",
              " 0.574999988079071,\n",
              " 0.862500011920929,\n",
              " 0.550000011920929,\n",
              " 0.824999988079071,\n",
              " 0.7875000238418579,\n",
              " 0.7124999761581421,\n",
              " 0.8125,\n",
              " 0.9375,\n",
              " 0.9125000238418579,\n",
              " 0.8125,\n",
              " 0.925000011920929,\n",
              " 0.9375,\n",
              " 0.9750000238418579,\n",
              " 0.887499988079071,\n",
              " 1.0,\n",
              " 0.887499988079071,\n",
              " 0.8500000238418579]"
            ]
          },
          "metadata": {
            "tags": []
          },
          "execution_count": 17
        }
      ]
    },
    {
      "cell_type": "code",
      "metadata": {
        "colab": {
          "base_uri": "https://localhost:8080/",
          "height": 265
        },
        "id": "py2f5O-U9HQ6",
        "outputId": "17845886-c7a6-4534-e2b2-2bec2e2c5a52"
      },
      "source": [
        "import matplotlib.pyplot as plt\n",
        "\n",
        "plt.plot(length,acc,color='red',label='accuracy')\n",
        "#plt.plot(length,val_acc,color='blue',label='val_accuracy')\n",
        "plt.legend()\n",
        "\n",
        "plt.show()"
      ],
      "execution_count": 20,
      "outputs": [
        {
          "output_type": "display_data",
          "data": {
            "image/png": "[encoded data removed]",
            "text/plain": [
              "<Figure size 432x288 with 1 Axes>"
            ]
          },
          "metadata": {
            "tags": [],
            "needs_background": "light"
          }
        }
      ]
    },
    {
      "cell_type": "code",
      "metadata": {
        "colab": {
          "base_uri": "https://localhost:8080/",
          "height": 265
        },
        "id": "opLX8Dm29Khk",
        "outputId": "0df0c6d6-70d1-457a-e066-7927e1d310d0"
      },
      "source": [
        "import matplotlib.pyplot as plt\n",
        "\n",
        "plt.plot(length,loss,color='red',label='loss')\n",
        "#plt.plot(length,val_loss,color='blue',label='val_loss')\n",
        "plt.legend()\n",
        "\n",
        "plt.show()"
      ],
      "execution_count": 21,
      "outputs": [
        {
          "output_type": "display_data",
          "data": {
            "image/png": "[encoded data removed]",
            "text/plain": [
              "<Figure size 432x288 with 1 Axes>"
            ]
          },
          "metadata": {
            "tags": [],
            "needs_background": "light"
          }
        }
      ]
    }
  ]
}