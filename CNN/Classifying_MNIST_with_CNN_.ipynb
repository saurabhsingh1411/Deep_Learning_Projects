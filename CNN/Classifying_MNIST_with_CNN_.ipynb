{
  "nbformat": 4,
  "nbformat_minor": 0,
  "metadata": {
    "colab": {
      "name": "Classifying MNIST with CNN .ipynb",
      "provenance": [],
      "collapsed_sections": [],
      "authorship_tag": "ABX9TyNLwxXruH5MfkSpSSBQVhWe",
      "include_colab_link": true
    },
    "kernelspec": {
      "name": "python3",
      "display_name": "Python 3"
    },
    "language_info": {
      "name": "python"
    }
  },
  "cells": [
    {
      "cell_type": "markdown",
      "metadata": {
        "id": "view-in-github",
        "colab_type": "text"
      },
      "source": [
        "<a href=\"https://colab.research.google.com/github/saurabhsingh1411/Deep_Learning_Projects/blob/main/CNN/Classifying_MNIST_with_CNN_.ipynb\" target=\"_parent\"><img src=\"https://colab.research.google.com/assets/colab-badge.svg\" alt=\"Open In Colab\"/></a>"
      ]
    },
    {
      "cell_type": "code",
      "metadata": {
        "id": "XOJRpREOTtsS"
      },
      "source": [
        "import tensorflow as tf "
      ],
      "execution_count": 1,
      "outputs": []
    },
    {
      "cell_type": "code",
      "metadata": {
        "id": "o9vAlm3PT0Vo"
      },
      "source": [
        "mnist=tf.keras.datasets.mnist"
      ],
      "execution_count": 2,
      "outputs": []
    },
    {
      "cell_type": "code",
      "metadata": {
        "id": "J8s73LCgT9E9"
      },
      "source": [
        "(x_train,y_train),(x_test,y_test)=mnist.load_data()\n",
        "\n",
        "#x_train,y_train=mnist.load_data()"
      ],
      "execution_count": 3,
      "outputs": []
    },
    {
      "cell_type": "code",
      "metadata": {
        "colab": {
          "base_uri": "https://localhost:8080/"
        },
        "id": "SH2pwInCULW0",
        "outputId": "5dc90a51-00bb-44a8-b238-78c60385e640"
      },
      "source": [
        "print(x_train.shape)\n",
        "print(y_train.shape)\n",
        "print(x_test.shape)\n",
        "print(y_test.shape)"
      ],
      "execution_count": 4,
      "outputs": [
        {
          "output_type": "stream",
          "text": [
            "(60000, 28, 28)\n",
            "(60000,)\n",
            "(10000, 28, 28)\n",
            "(10000,)\n"
          ],
          "name": "stdout"
        }
      ]
    },
    {
      "cell_type": "code",
      "metadata": {
        "colab": {
          "base_uri": "https://localhost:8080/",
          "height": 282
        },
        "id": "AwuvqF7OUXG8",
        "outputId": "579d547a-99b4-4772-b3d0-f5214cbff6a7"
      },
      "source": [
        "import matplotlib.pyplot as plt\n",
        "plt.imshow(x_train[1])"
      ],
      "execution_count": 5,
      "outputs": [
        {
          "output_type": "execute_result",
          "data": {
            "text/plain": [
              "<matplotlib.image.AxesImage at 0x7f89aab2d590>"
            ]
          },
          "metadata": {
            "tags": []
          },
          "execution_count": 5
        },
        {
          "output_type": "display_data",
          "data": {
            "image/png": "[encoded data removed]",
            "text/plain": [
              "<Figure size 432x288 with 1 Axes>"
            ]
          },
          "metadata": {
            "tags": [],
            "needs_background": "light"
          }
        }
      ]
    },
    {
      "cell_type": "code",
      "metadata": {
        "id": "aL38X_2CU7xa"
      },
      "source": [
        "def preprocess_img(img):\n",
        "  img=img.reshape(-1,28,28,1)\n",
        "  img=img / 255.0\n",
        "  return img"
      ],
      "execution_count": 11,
      "outputs": []
    },
    {
      "cell_type": "code",
      "metadata": {
        "id": "W5_jDzHnVSD7"
      },
      "source": [
        "x_train=preprocess_img(x_train)\n",
        "x_test=preprocess_img(x_test)"
      ],
      "execution_count": 12,
      "outputs": []
    },
    {
      "cell_type": "code",
      "metadata": {
        "colab": {
          "base_uri": "https://localhost:8080/"
        },
        "id": "azqtmGEWVfL7",
        "outputId": "91fcf5fa-2806-4e44-8745-df2cd0dbb28d"
      },
      "source": [
        "print(x_train.shape)\n",
        "print(y_train.shape)\n",
        "print(x_test.shape)\n",
        "print(y_test.shape)"
      ],
      "execution_count": 13,
      "outputs": [
        {
          "output_type": "stream",
          "text": [
            "(60000, 28, 28, 1)\n",
            "(60000,)\n",
            "(10000, 28, 28, 1)\n",
            "(10000,)\n"
          ],
          "name": "stdout"
        }
      ]
    },
    {
      "cell_type": "code",
      "metadata": {
        "colab": {
          "base_uri": "https://localhost:8080/"
        },
        "id": "XlYVT_c2VjAj",
        "outputId": "85bc54ff-ddbc-4593-ac7d-17845403c56c"
      },
      "source": [
        "from tensorflow.keras import layers\n",
        "model=tf.keras.models.Sequential()\n",
        "model.add(layers.Conv2D(filters=64,kernel_size=(3,3),activation='relu',input_shape=(28,28,1)))\n",
        "model.add(layers.MaxPooling2D(pool_size=(2,2)))\n",
        "model.add(layers.Flatten())\n",
        "model.add(layers.Dense(units=128,activation='relu'))\n",
        "model.add(layers.Dense(units=64,activation='relu'))\n",
        "model.add(layers.Dense(units=10,activation='softmax'))\n",
        "\n",
        "model.summary()"
      ],
      "execution_count": 14,
      "outputs": [
        {
          "output_type": "stream",
          "text": [
            "Model: \"sequential_1\"\n",
            "_________________________________________________________________\n",
            "Layer (type)                 Output Shape              Param #   \n",
            "=================================================================\n",
            "conv2d_1 (Conv2D)            (None, 26, 26, 64)        640       \n",
            "_________________________________________________________________\n",
            "max_pooling2d_1 (MaxPooling2 (None, 13, 13, 64)        0         \n",
            "_________________________________________________________________\n",
            "flatten_1 (Flatten)          (None, 10816)             0         \n",
            "_________________________________________________________________\n",
            "dense_3 (Dense)              (None, 128)               1384576   \n",
            "_________________________________________________________________\n",
            "dense_4 (Dense)              (None, 64)                8256      \n",
            "_________________________________________________________________\n",
            "dense_5 (Dense)              (None, 10)                650       \n",
            "=================================================================\n",
            "Total params: 1,394,122\n",
            "Trainable params: 1,394,122\n",
            "Non-trainable params: 0\n",
            "_________________________________________________________________\n"
          ],
          "name": "stdout"
        }
      ]
    },
    {
      "cell_type": "code",
      "metadata": {
        "id": "UiAZV5SxXp-L"
      },
      "source": [
        "model.compile(\n",
        "    optimizer='adam',\n",
        "    loss='sparse_categorical_crossentropy',\n",
        "    metrics=['accuracy']\n",
        ")\n"
      ],
      "execution_count": 15,
      "outputs": []
    },
    {
      "cell_type": "code",
      "metadata": {
        "id": "wmiX2XnaY8UC"
      },
      "source": [
        "# from keras.utils import to_categorical\n",
        "# y_train=to_categorical(y_train)\n",
        "# y_test=to_categorical(y_test)"
      ],
      "execution_count": 20,
      "outputs": []
    },
    {
      "cell_type": "code",
      "metadata": {
        "colab": {
          "base_uri": "https://localhost:8080/"
        },
        "id": "SdhS83WQZKoR",
        "outputId": "448cab56-d42c-44e1-f841-a38e7904bcf7"
      },
      "source": [
        "y_test.shape"
      ],
      "execution_count": 16,
      "outputs": [
        {
          "output_type": "execute_result",
          "data": {
            "text/plain": [
              "(10000,)"
            ]
          },
          "metadata": {
            "tags": []
          },
          "execution_count": 16
        }
      ]
    },
    {
      "cell_type": "code",
      "metadata": {
        "colab": {
          "base_uri": "https://localhost:8080/"
        },
        "id": "4lK60822WMv8",
        "outputId": "698d3534-7bca-4f9d-c2d5-47566b878ebe"
      },
      "source": [
        "model.fit(x_train,y_train,epochs=10,batch_size=64,validation_data=(x_test,y_test))"
      ],
      "execution_count": 18,
      "outputs": [
        {
          "output_type": "stream",
          "text": [
            "Epoch 1/10\n",
            "938/938 [==============================] - 37s 40ms/step - loss: 0.2683 - accuracy: 0.9206 - val_loss: 0.2297 - val_accuracy: 0.9315\n",
            "Epoch 2/10\n",
            "938/938 [==============================] - 37s 39ms/step - loss: 0.2205 - accuracy: 0.9334 - val_loss: 0.1891 - val_accuracy: 0.9415\n",
            "Epoch 3/10\n",
            "938/938 [==============================] - 37s 40ms/step - loss: 0.1851 - accuracy: 0.9440 - val_loss: 0.1602 - val_accuracy: 0.9500\n",
            "Epoch 4/10\n",
            "938/938 [==============================] - 37s 40ms/step - loss: 0.1572 - accuracy: 0.9520 - val_loss: 0.1445 - val_accuracy: 0.9561\n",
            "Epoch 5/10\n",
            "938/938 [==============================] - 38s 40ms/step - loss: 0.1357 - accuracy: 0.9597 - val_loss: 0.1253 - val_accuracy: 0.9612\n",
            "Epoch 6/10\n",
            "938/938 [==============================] - 38s 40ms/step - loss: 0.1191 - accuracy: 0.9641 - val_loss: 0.1138 - val_accuracy: 0.9640\n",
            "Epoch 7/10\n",
            "938/938 [==============================] - 37s 40ms/step - loss: 0.1074 - accuracy: 0.9677 - val_loss: 0.1012 - val_accuracy: 0.9672\n",
            "Epoch 8/10\n",
            "938/938 [==============================] - 38s 40ms/step - loss: 0.0976 - accuracy: 0.9708 - val_loss: 0.0960 - val_accuracy: 0.9696\n",
            "Epoch 9/10\n",
            "938/938 [==============================] - 38s 40ms/step - loss: 0.0891 - accuracy: 0.9733 - val_loss: 0.0949 - val_accuracy: 0.9706\n",
            "Epoch 10/10\n",
            "938/938 [==============================] - 38s 40ms/step - loss: 0.0824 - accuracy: 0.9750 - val_loss: 0.0973 - val_accuracy: 0.9691\n"
          ],
          "name": "stdout"
        },
        {
          "output_type": "execute_result",
          "data": {
            "text/plain": [
              "<tensorflow.python.keras.callbacks.History at 0x7f89a3d73190>"
            ]
          },
          "metadata": {
            "tags": []
          },
          "execution_count": 18
        }
      ]
    },
    {
      "cell_type": "code",
      "metadata": {
        "id": "QAO8etQSXn4V"
      },
      "source": [
        "# import tensorflow as tf\n",
        "# class CustomCallbacks(tf.keras.callbacks.Callback):\n",
        "#     def on_epoch_end(self, epoch, logs={}):\n",
        "#       if(logs.get('accuracy')>0.998):\n",
        "#         print(\"\\n 99% acc reached\")\n",
        "#         self.model.stop_training = True\n",
        "\n",
        "\n",
        "# def preprocess_images(image_set):\n",
        "#   image_set = image_set.reshape(-1, 28, 28, 1)\n",
        "#   image_set = image_set / 255.0\n",
        "#   return image_set\n",
        "\n",
        "\n",
        "# mnist = tf.keras.datasets.mnist\n",
        "# (training_images, training_labels), (test_images, test_labels) = mnist.load_data()\n",
        "\n",
        "# training_images = preprocess_images(training_images)\n",
        "# test_images = preprocess_images(test_images)\n",
        "\n",
        "# model = tf.keras.models.Sequential([\n",
        "#     tf.keras.layers.Conv2D(64, (3, 3), activation='relu', input_shape=(28,28,1)),\n",
        "#     tf.keras.layers.MaxPooling2D(2, 2),\n",
        "#     tf.keras.layers.Flatten(),\n",
        "#     tf.keras.layers.Dense(128, activation='relu'),\n",
        "#     tf.keras.layers.Dense(64, activation='relu'),\n",
        "#     tf.keras.layers.Dense(10, activation='softmax')\n",
        "# ])\n",
        "\n",
        "# model.compile(\n",
        "#     optimizer='adam',\n",
        "#     loss='sparse_categorical_crossentropy',\n",
        "#     metrics=['accuracy']\n",
        "# )\n",
        "\n",
        "# model.fit(\n",
        "#     training_images,\n",
        "#     training_labels,\n",
        "#     batch_size=64,\n",
        "#     epochs=20,\n",
        "#     callbacks=[CustomCallbacks()]\n",
        "# )"
      ],
      "execution_count": 19,
      "outputs": []
    },
    {
      "cell_type": "code",
      "metadata": {
        "id": "Ke_Dc0nxjNXC"
      },
      "source": [
        ""
      ],
      "execution_count": null,
      "outputs": []
    }
  ]
}