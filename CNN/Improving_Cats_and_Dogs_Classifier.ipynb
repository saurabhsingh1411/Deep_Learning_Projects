{
  "nbformat": 4,
  "nbformat_minor": 0,
  "metadata": {
    "colab": {
      "name": "Improving Cats and Dogs Classifier.ipynb",
      "provenance": [],
      "collapsed_sections": [],
      "authorship_tag": "ABX9TyMz7hMTMYsGV8I6It2DrZ8d",
      "include_colab_link": true
    },
    "kernelspec": {
      "name": "python3",
      "display_name": "Python 3"
    },
    "language_info": {
      "name": "python"
    },
    "accelerator": "GPU"
  },
  "cells": [
    {
      "cell_type": "markdown",
      "metadata": {
        "id": "view-in-github",
        "colab_type": "text"
      },
      "source": [
        "<a href=\"https://colab.research.google.com/github/saurabhsingh1411/Deep_Learning_Projects/blob/main/CNN/Improving_Cats_and_Dogs_Classifier.ipynb\" target=\"_parent\"><img src=\"https://colab.research.google.com/assets/colab-badge.svg\" alt=\"Open In Colab\"/></a>"
      ]
    },
    {
      "cell_type": "code",
      "metadata": {
        "id": "GBn8oDDoI1zn"
      },
      "source": [
        "import os\n",
        "import zipfile\n",
        "import random\n",
        "import tensorflow as tf\n",
        "from tensorflow.keras.optimizers import RMSprop\n",
        "from tensorflow.keras.preprocessing.image import ImageDataGenerator\n",
        "from shutil import copyfile"
      ],
      "execution_count": 1,
      "outputs": []
    },
    {
      "cell_type": "code",
      "metadata": {
        "colab": {
          "base_uri": "https://localhost:8080/"
        },
        "id": "cFrNIMzZMFKy",
        "outputId": "3b930bf7-64df-4e66-a0f9-9b13c7f36e0c"
      },
      "source": [
        "!wget --no-check-certificate \\\n",
        "    \"https://download.microsoft.com/download/3/E/1/3E1C3F21-ECDB-4869-8368-6DEBA77B919F/kagglecatsanddogs_3367a.zip\" \\\n",
        "    -O \"/tmp/cats-and-dogs.zip\""
      ],
      "execution_count": 2,
      "outputs": [
        {
          "output_type": "stream",
          "text": [
            "--2021-03-19 18:16:39--  https://download.microsoft.com/download/3/E/1/3E1C3F21-ECDB-4869-8368-6DEBA77B919F/kagglecatsanddogs_3367a.zip\n",
            "Resolving download.microsoft.com (download.microsoft.com)... 23.60.72.32, 2600:1409:8800:188::e59, 2600:1409:8800:180::e59\n",
            "Connecting to download.microsoft.com (download.microsoft.com)|23.60.72.32|:443... connected.\n",
            "HTTP request sent, awaiting response... 200 OK\n",
            "Length: 824894548 (787M) [application/octet-stream]\n",
            "Saving to: ‘/tmp/cats-and-dogs.zip’\n",
            "\n",
            "/tmp/cats-and-dogs. 100%[===================>] 786.68M   125MB/s    in 6.8s    \n",
            "\n",
            "2021-03-19 18:16:46 (115 MB/s) - ‘/tmp/cats-and-dogs.zip’ saved [824894548/824894548]\n",
            "\n"
          ],
          "name": "stdout"
        }
      ]
    },
    {
      "cell_type": "code",
      "metadata": {
        "id": "CGCjqYRiMNp2"
      },
      "source": [
        "local_zip='/tmp/cats-and-dogs.zip'"
      ],
      "execution_count": 3,
      "outputs": []
    },
    {
      "cell_type": "code",
      "metadata": {
        "id": "6dZgvX4xMOM0"
      },
      "source": [
        "zip_ref=zipfile.ZipFile(local_zip,'r')\n",
        "zip_ref.extractall('/tmp')\n",
        "zip_ref.close()"
      ],
      "execution_count": 4,
      "outputs": []
    },
    {
      "cell_type": "code",
      "metadata": {
        "colab": {
          "base_uri": "https://localhost:8080/"
        },
        "id": "DZD_ejJWMOSc",
        "outputId": "95215ba6-97bd-4c5e-e6d0-6b8bd11d92eb"
      },
      "source": [
        "print(len(os.listdir('/tmp/PetImages/Cat/')))\n",
        "print(len(os.listdir('/tmp/PetImages/Dog')))"
      ],
      "execution_count": 5,
      "outputs": [
        {
          "output_type": "stream",
          "text": [
            "12501\n",
            "12501\n"
          ],
          "name": "stdout"
        }
      ]
    },
    {
      "cell_type": "code",
      "metadata": {
        "colab": {
          "base_uri": "https://localhost:8080/"
        },
        "id": "052d3w1PNL59",
        "outputId": "492f905c-35fa-4b29-d4d1-7d8524991b05"
      },
      "source": [
        "to_create = [\n",
        "    '/tmp/cats-v-dogs',\n",
        "    '/tmp/cats-v-dogs/training',\n",
        "    '/tmp/cats-v-dogs/testing',\n",
        "    '/tmp/cats-v-dogs/training/cats',\n",
        "    '/tmp/cats-v-dogs/training/dogs',\n",
        "    '/tmp/cats-v-dogs/testing/cats',\n",
        "    '/tmp/cats-v-dogs/testing/dogs'\n",
        "]\n",
        "\n",
        "for directory in to_create:\n",
        "    try:\n",
        "        os.mkdir(directory)\n",
        "        print(directory, 'created')\n",
        "    except:\n",
        "        print(directory, 'failed')"
      ],
      "execution_count": 6,
      "outputs": [
        {
          "output_type": "stream",
          "text": [
            "/tmp/cats-v-dogs created\n",
            "/tmp/cats-v-dogs/training created\n",
            "/tmp/cats-v-dogs/testing created\n",
            "/tmp/cats-v-dogs/training/cats created\n",
            "/tmp/cats-v-dogs/training/dogs created\n",
            "/tmp/cats-v-dogs/testing/cats created\n",
            "/tmp/cats-v-dogs/testing/dogs created\n"
          ],
          "name": "stdout"
        }
      ]
    },
    {
      "cell_type": "code",
      "metadata": {
        "colab": {
          "base_uri": "https://localhost:8080/"
        },
        "id": "ufbU7SNgNMGq",
        "outputId": "0a8fa07b-9ef7-4e13-8964-535c8974e247"
      },
      "source": [
        "print(len(os.listdir('/tmp/cats-v-dogs/testing/cats/')))\n",
        "print(len(os.listdir('/tmp/cats-v-dogs/training/dogs')))"
      ],
      "execution_count": 7,
      "outputs": [
        {
          "output_type": "stream",
          "text": [
            "0\n",
            "0\n"
          ],
          "name": "stdout"
        }
      ]
    },
    {
      "cell_type": "code",
      "metadata": {
        "colab": {
          "base_uri": "https://localhost:8080/"
        },
        "id": "JxwALWrzMOVH",
        "outputId": "f36fed69-4cb7-4c81-f091-1baae7c4dc35"
      },
      "source": [
        "def split_data(SOURCE, TRAINING, TESTING, SPLIT_SIZE):\n",
        "    all_files = []\n",
        "    \n",
        "    for file_name in os.listdir(SOURCE):\n",
        "        file_path = SOURCE + file_name\n",
        "\n",
        "        if os.path.getsize(file_path):\n",
        "            all_files.append(file_name)\n",
        "        else:\n",
        "            print('{} is zero length, so ignoring'.format(file_name))\n",
        "    \n",
        "    n_files = len(all_files)\n",
        "    split_point = int(n_files * SPLIT_SIZE)\n",
        "    \n",
        "    shuffled = random.sample(all_files, n_files)\n",
        "    \n",
        "    train_set = shuffled[:split_point]\n",
        "    test_set = shuffled[split_point:]\n",
        "    \n",
        "    for file_name in train_set:\n",
        "        copyfile(SOURCE + file_name, TRAINING + file_name)\n",
        "        \n",
        "    for file_name in test_set:\n",
        "        copyfile(SOURCE + file_name, TESTING + file_name)\n",
        "\n",
        "\n",
        "CAT_SOURCE_DIR = \"/tmp/PetImages/Cat/\"\n",
        "TRAINING_CATS_DIR = \"/tmp/cats-v-dogs/training/cats/\"\n",
        "TESTING_CATS_DIR = \"/tmp/cats-v-dogs/testing/cats/\"\n",
        "DOG_SOURCE_DIR = \"/tmp/PetImages/Dog/\"\n",
        "TRAINING_DOGS_DIR = \"/tmp/cats-v-dogs/training/dogs/\"\n",
        "TESTING_DOGS_DIR = \"/tmp/cats-v-dogs/testing/dogs/\"\n",
        "\n",
        "split_size = .9\n",
        "split_data(CAT_SOURCE_DIR, TRAINING_CATS_DIR, TESTING_CATS_DIR, split_size)\n",
        "split_data(DOG_SOURCE_DIR, TRAINING_DOGS_DIR, TESTING_DOGS_DIR, split_size)\n",
        "\n",
        "# Expected output\n",
        "# 666.jpg is zero length, so ignoring\n",
        "# 11702.jpg is zero length, so ignoring"
      ],
      "execution_count": 8,
      "outputs": [
        {
          "output_type": "stream",
          "text": [
            "666.jpg is zero length, so ignoring\n",
            "11702.jpg is zero length, so ignoring\n"
          ],
          "name": "stdout"
        }
      ]
    },
    {
      "cell_type": "code",
      "metadata": {
        "colab": {
          "base_uri": "https://localhost:8080/"
        },
        "id": "b4oySpSQMOYH",
        "outputId": "40ee56e8-eec2-4a2c-a1a4-ed84c32e7719"
      },
      "source": [
        "print(len(os.listdir('/tmp/cats-v-dogs/training/cats/')))\n",
        "print(len(os.listdir('/tmp/cats-v-dogs/training/dogs/')))\n",
        "print(len(os.listdir('/tmp/cats-v-dogs/testing/cats/')))\n",
        "print(len(os.listdir('/tmp/cats-v-dogs/testing/dogs/')))"
      ],
      "execution_count": 9,
      "outputs": [
        {
          "output_type": "stream",
          "text": [
            "11250\n",
            "11250\n",
            "1250\n",
            "1250\n"
          ],
          "name": "stdout"
        }
      ]
    },
    {
      "cell_type": "code",
      "metadata": {
        "colab": {
          "base_uri": "https://localhost:8080/"
        },
        "id": "vx6oS-MDjmjf",
        "outputId": "af4a5c4f-9f1e-438c-8707-9a054c1081fa"
      },
      "source": [
        "from tensorflow.keras import layers\n",
        "\n",
        "model=tf.keras.Sequential()\n",
        "\n",
        "model.add(layers.Conv2D(filters=64,kernel_size=(3,3),activation='relu',input_shape=(150,150,3)))\n",
        "model.add(layers.MaxPooling2D(2,2))\n",
        "model.add(layers.Conv2D(filters=32,kernel_size=(3,3),activation='relu',input_shape=(150,150,3)))\n",
        "model.add(layers.MaxPooling2D(2,2))\n",
        "model.add(layers.Conv2D(filters=32,kernel_size=(2,2),activation='relu',input_shape=(150,150,3)))\n",
        "model.add(layers.MaxPooling2D(2,2))\n",
        "model.add(layers.Flatten())\n",
        "model.add(layers.Dense(units=512,activation='relu'))\n",
        "model.add(layers.Dense(units=128,activation='relu'))\n",
        "model.add(layers.Dense(units=1,activation='sigmoid'))\n",
        "\n",
        "model.summary()"
      ],
      "execution_count": 10,
      "outputs": [
        {
          "output_type": "stream",
          "text": [
            "Model: \"sequential\"\n",
            "_________________________________________________________________\n",
            "Layer (type)                 Output Shape              Param #   \n",
            "=================================================================\n",
            "conv2d (Conv2D)              (None, 148, 148, 64)      1792      \n",
            "_________________________________________________________________\n",
            "max_pooling2d (MaxPooling2D) (None, 74, 74, 64)        0         \n",
            "_________________________________________________________________\n",
            "conv2d_1 (Conv2D)            (None, 72, 72, 32)        18464     \n",
            "_________________________________________________________________\n",
            "max_pooling2d_1 (MaxPooling2 (None, 36, 36, 32)        0         \n",
            "_________________________________________________________________\n",
            "conv2d_2 (Conv2D)            (None, 35, 35, 32)        4128      \n",
            "_________________________________________________________________\n",
            "max_pooling2d_2 (MaxPooling2 (None, 17, 17, 32)        0         \n",
            "_________________________________________________________________\n",
            "flatten (Flatten)            (None, 9248)              0         \n",
            "_________________________________________________________________\n",
            "dense (Dense)                (None, 512)               4735488   \n",
            "_________________________________________________________________\n",
            "dense_1 (Dense)              (None, 128)               65664     \n",
            "_________________________________________________________________\n",
            "dense_2 (Dense)              (None, 1)                 129       \n",
            "=================================================================\n",
            "Total params: 4,825,665\n",
            "Trainable params: 4,825,665\n",
            "Non-trainable params: 0\n",
            "_________________________________________________________________\n"
          ],
          "name": "stdout"
        }
      ]
    },
    {
      "cell_type": "code",
      "metadata": {
        "id": "Yfs_aaH5k0Kt"
      },
      "source": [
        "training_dir='/tmp/cats-v-dogs/training'\n",
        "train_datagen=ImageDataGenerator(\n",
        "    rescale=1/255,\n",
        "    rotation_range=40,\n",
        "    width_shift_range=0.2,\n",
        "    height_shift_range=0.2,\n",
        "    shear_range=0.2,\n",
        "    zoom_range=0.2,\n",
        "    horizontal_flip=True,\n",
        "    fill_mode='nearest'\n",
        ")"
      ],
      "execution_count": 11,
      "outputs": []
    },
    {
      "cell_type": "code",
      "metadata": {
        "colab": {
          "base_uri": "https://localhost:8080/"
        },
        "id": "dvJKxP1Vk9sm",
        "outputId": "abaf937c-4085-424a-e7cb-4282a76f6a03"
      },
      "source": [
        "train_generator=train_datagen.flow_from_directory(\n",
        "    training_dir,\n",
        "    batch_size=64,\n",
        "    class_mode='binary',\n",
        "    target_size=(150,150)\n",
        ")"
      ],
      "execution_count": 12,
      "outputs": [
        {
          "output_type": "stream",
          "text": [
            "Found 22499 images belonging to 2 classes.\n"
          ],
          "name": "stdout"
        }
      ]
    },
    {
      "cell_type": "code",
      "metadata": {
        "colab": {
          "base_uri": "https://localhost:8080/"
        },
        "id": "wHwLJspqk9vT",
        "outputId": "87cf75a2-2f26-4efb-b019-6ea12f1275b0"
      },
      "source": [
        "VALIDATION_DIR = '/tmp/cats-v-dogs/testing'\n",
        "validation_datagen = ImageDataGenerator(\n",
        "    rescale=1 / 255,\n",
        "    rotation_range=40,\n",
        "    width_shift_range=.2,\n",
        "    height_shift_range=.2,\n",
        "    shear_range=.2,\n",
        "    zoom_range=.2,\n",
        "    horizontal_flip=True,\n",
        "    fill_mode='nearest'\n",
        "\n",
        ")\n",
        "validation_generator = validation_datagen.flow_from_directory(\n",
        "    VALIDATION_DIR,\n",
        "    batch_size=64,\n",
        "    class_mode='binary',\n",
        "    target_size=(150, 150)\n",
        ")"
      ],
      "execution_count": 13,
      "outputs": [
        {
          "output_type": "stream",
          "text": [
            "Found 2499 images belonging to 2 classes.\n"
          ],
          "name": "stdout"
        }
      ]
    },
    {
      "cell_type": "code",
      "metadata": {
        "id": "qnY8kkpsn1Cn"
      },
      "source": [
        "model.compile(optimizer=RMSprop(lr=0.001), loss='binary_crossentropy', metrics=['acc'])"
      ],
      "execution_count": 14,
      "outputs": []
    },
    {
      "cell_type": "code",
      "metadata": {
        "colab": {
          "base_uri": "https://localhost:8080/"
        },
        "id": "8wTvDsz4k91e",
        "outputId": "4dde3dbb-a0de-4798-eb29-78870ba16656"
      },
      "source": [
        "import warnings\n",
        "warnings.filterwarnings('ignore')\n",
        "print('warnings ignored')\n",
        "\n",
        "history=model.fit_generator(train_generator,epochs=15,\n",
        "                            verbose=1,\n",
        "                            validation_data=validation_generator)"
      ],
      "execution_count": 15,
      "outputs": [
        {
          "output_type": "stream",
          "text": [
            "warnings ignored\n",
            "Epoch 1/15\n",
            "352/352 [==============================] - 208s 497ms/step - loss: 0.7462 - acc: 0.5493 - val_loss: 0.6235 - val_acc: 0.6527\n",
            "Epoch 2/15\n",
            "352/352 [==============================] - 173s 493ms/step - loss: 0.6250 - acc: 0.6589 - val_loss: 0.7130 - val_acc: 0.6279\n",
            "Epoch 3/15\n",
            "352/352 [==============================] - 173s 490ms/step - loss: 0.5818 - acc: 0.6924 - val_loss: 0.5569 - val_acc: 0.7203\n",
            "Epoch 4/15\n",
            "352/352 [==============================] - 173s 492ms/step - loss: 0.5563 - acc: 0.7193 - val_loss: 0.5330 - val_acc: 0.7435\n",
            "Epoch 5/15\n",
            "352/352 [==============================] - 172s 489ms/step - loss: 0.5420 - acc: 0.7279 - val_loss: 0.5488 - val_acc: 0.7071\n",
            "Epoch 6/15\n",
            "352/352 [==============================] - 173s 492ms/step - loss: 0.5245 - acc: 0.7337 - val_loss: 0.5061 - val_acc: 0.7487\n",
            "Epoch 7/15\n",
            "352/352 [==============================] - 173s 490ms/step - loss: 0.5147 - acc: 0.7489 - val_loss: 0.5012 - val_acc: 0.7507\n",
            "Epoch 8/15\n",
            "352/352 [==============================] - 172s 489ms/step - loss: 0.5064 - acc: 0.7529 - val_loss: 0.5163 - val_acc: 0.7607\n",
            "Epoch 9/15\n",
            "352/352 [==============================] - 172s 487ms/step - loss: 0.4849 - acc: 0.7726 - val_loss: 0.4996 - val_acc: 0.7567\n",
            "Epoch 10/15\n",
            "352/352 [==============================] - 172s 488ms/step - loss: 0.4725 - acc: 0.7772 - val_loss: 0.4906 - val_acc: 0.7639\n",
            "Epoch 11/15\n",
            "352/352 [==============================] - 172s 489ms/step - loss: 0.4717 - acc: 0.7753 - val_loss: 0.4813 - val_acc: 0.7779\n",
            "Epoch 12/15\n",
            "352/352 [==============================] - 172s 488ms/step - loss: 0.4635 - acc: 0.7832 - val_loss: 0.4558 - val_acc: 0.7891\n",
            "Epoch 13/15\n",
            "352/352 [==============================] - 172s 490ms/step - loss: 0.4585 - acc: 0.7884 - val_loss: 0.4510 - val_acc: 0.7907\n",
            "Epoch 14/15\n",
            "352/352 [==============================] - 175s 498ms/step - loss: 0.4543 - acc: 0.7929 - val_loss: 0.4334 - val_acc: 0.8035\n",
            "Epoch 15/15\n",
            "352/352 [==============================] - 175s 496ms/step - loss: 0.4532 - acc: 0.7877 - val_loss: 0.5307 - val_acc: 0.7379\n"
          ],
          "name": "stdout"
        }
      ]
    },
    {
      "cell_type": "code",
      "metadata": {
        "id": "cKt9D64LuJD-"
      },
      "source": [
        "import matplotlib.pyplot as plt\n",
        "import matplotlib.image as mpimg\n",
        "\n",
        "acc=history.history['acc']\n",
        "val_acc=history.history['val_acc']\n",
        "loss=history.history['loss']\n",
        "val_loss=history.history['val_loss']"
      ],
      "execution_count": 21,
      "outputs": []
    },
    {
      "cell_type": "code",
      "metadata": {
        "colab": {
          "base_uri": "https://localhost:8080/"
        },
        "id": "9buB83jQ3fUZ",
        "outputId": "2ded8961-9193-42d1-b80c-a335f992e6f5"
      },
      "source": [
        "acc\n"
      ],
      "execution_count": 22,
      "outputs": [
        {
          "output_type": "execute_result",
          "data": {
            "text/plain": [
              "[0.5924707651138306,\n",
              " 0.6674074530601501,\n",
              " 0.7034534811973572,\n",
              " 0.7178096771240234,\n",
              " 0.7306991219520569,\n",
              " 0.7401662468910217,\n",
              " 0.7492333054542542,\n",
              " 0.7592337727546692,\n",
              " 0.7696786522865295,\n",
              " 0.7712787389755249,\n",
              " 0.7793235182762146,\n",
              " 0.781101405620575,\n",
              " 0.7877238988876343,\n",
              " 0.7912351489067078,\n",
              " 0.7891461849212646]"
            ]
          },
          "metadata": {
            "tags": []
          },
          "execution_count": 22
        }
      ]
    },
    {
      "cell_type": "code",
      "metadata": {
        "colab": {
          "base_uri": "https://localhost:8080/",
          "height": 299
        },
        "id": "Ra49Egt5wMF3",
        "outputId": "c1aba4b6-1e77-49f8-bcbf-6589179fdacb"
      },
      "source": [
        "epochs=range(len(acc))\n",
        "\n",
        "plt.plot(epochs,acc,'r','Training_accuracy')\n",
        "plt.plot(epochs,val_acc,'b','Validatin_accuracy')\n",
        "plt.figure()"
      ],
      "execution_count": 24,
      "outputs": [
        {
          "output_type": "execute_result",
          "data": {
            "text/plain": [
              "<Figure size 432x288 with 0 Axes>"
            ]
          },
          "metadata": {
            "tags": []
          },
          "execution_count": 24
        },
        {
          "output_type": "display_data",
          "data": {
            "image/png": "[encoded data removed]",
            "text/plain": [
              "<Figure size 432x288 with 1 Axes>"
            ]
          },
          "metadata": {
            "tags": [],
            "needs_background": "light"
          }
        },
        {
          "output_type": "display_data",
          "data": {
            "text/plain": [
              "<Figure size 432x288 with 0 Axes>"
            ]
          },
          "metadata": {
            "tags": []
          }
        }
      ]
    },
    {
      "cell_type": "code",
      "metadata": {
        "colab": {
          "base_uri": "https://localhost:8080/",
          "height": 546
        },
        "id": "h1TteVmPxQDz",
        "outputId": "d9f26382-fab1-45f3-9016-3f6f1ecbdaa0"
      },
      "source": [
        "plt.plot(epochs,loss,'r','Training_accuracy')\n",
        "plt.plot(epochs,val_loss,'b','Validatin_accuracy')\n",
        "plt.figure()\n",
        "plt.title('Training and Validation loss')"
      ],
      "execution_count": 25,
      "outputs": [
        {
          "output_type": "execute_result",
          "data": {
            "text/plain": [
              "Text(0.5, 1.0, 'Training and Validation loss')"
            ]
          },
          "metadata": {
            "tags": []
          },
          "execution_count": 25
        },
        {
          "output_type": "display_data",
          "data": {
            "image/png": "[encoded data removed]",
            "text/plain": [
              "<Figure size 432x288 with 1 Axes>"
            ]
          },
          "metadata": {
            "tags": [],
            "needs_background": "light"
          }
        },
        {
          "output_type": "display_data",
          "data": {
            "image/png": "[encoded data removed]",
            "text/plain": [
              "<Figure size 432x288 with 1 Axes>"
            ]
          },
          "metadata": {
            "tags": [],
            "needs_background": "light"
          }
        }
      ]
    }
  ]
}