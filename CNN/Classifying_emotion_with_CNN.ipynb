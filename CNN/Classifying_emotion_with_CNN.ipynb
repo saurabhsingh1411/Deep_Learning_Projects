{
  "nbformat": 4,
  "nbformat_minor": 0,
  "metadata": {
    "colab": {
      "name": "Classifying emotion with CNN.ipynb",
      "provenance": [],
      "collapsed_sections": [],
      "authorship_tag": "ABX9TyOyaAtcP57fRbmL2WhPnjfh",
      "include_colab_link": true
    },
    "kernelspec": {
      "name": "python3",
      "display_name": "Python 3"
    },
    "language_info": {
      "name": "python"
    }
  },
  "cells": [
    {
      "cell_type": "markdown",
      "metadata": {
        "id": "view-in-github",
        "colab_type": "text"
      },
      "source": [
        "<a href=\"https://colab.research.google.com/github/saurabhsingh1411/Deep_Learning_Projects/blob/main/CNN/Classifying_emotion_with_CNN.ipynb\" target=\"_parent\"><img src=\"https://colab.research.google.com/assets/colab-badge.svg\" alt=\"Open In Colab\"/></a>"
      ]
    },
    {
      "cell_type": "code",
      "metadata": {
        "id": "U4GUY1-bgFlZ"
      },
      "source": [
        "import tensorflow as tf"
      ],
      "execution_count": 13,
      "outputs": []
    },
    {
      "cell_type": "code",
      "metadata": {
        "id": "VAFa83OjgNSI"
      },
      "source": [
        "import os \n",
        "import zipfile"
      ],
      "execution_count": 14,
      "outputs": []
    },
    {
      "cell_type": "code",
      "metadata": {
        "colab": {
          "base_uri": "https://localhost:8080/"
        },
        "id": "N7wJkR0sgTkn",
        "outputId": "ab377dc6-adbf-4055-9ab0-aa11ace3b4e1"
      },
      "source": [
        "!wget --no-check-certificate \\\n",
        "    \"https://storage.googleapis.com/laurencemoroney-blog.appspot.com/happy-or-sad.zip\" \\\n",
        "    -O \"/tmp/happy-or-sad.zip\""
      ],
      "execution_count": 15,
      "outputs": [
        {
          "output_type": "stream",
          "text": [
            "--2021-03-19 14:56:06--  https://storage.googleapis.com/laurencemoroney-blog.appspot.com/happy-or-sad.zip\n",
            "Resolving storage.googleapis.com (storage.googleapis.com)... 108.177.125.128, 74.125.203.128, 74.125.204.128, ...\n",
            "Connecting to storage.googleapis.com (storage.googleapis.com)|108.177.125.128|:443... connected.\n",
            "HTTP request sent, awaiting response... 200 OK\n",
            "Length: 2670333 (2.5M) [application/zip]\n",
            "Saving to: ‘/tmp/happy-or-sad.zip’\n",
            "\n",
            "\r/tmp/happy-or-sad.z   0%[                    ]       0  --.-KB/s               \r/tmp/happy-or-sad.z 100%[===================>]   2.55M  --.-KB/s    in 0.02s   \n",
            "\n",
            "2021-03-19 14:56:07 (144 MB/s) - ‘/tmp/happy-or-sad.zip’ saved [2670333/2670333]\n",
            "\n"
          ],
          "name": "stdout"
        }
      ]
    },
    {
      "cell_type": "code",
      "metadata": {
        "id": "7xuuQbxNgUEX"
      },
      "source": [
        "zip_ref=zipfile.ZipFile('/tmp/happy-or-sad.zip','r')\n",
        "zip_ref.extractall('/tmp/h-or-s')\n",
        "zip_ref.close()"
      ],
      "execution_count": 16,
      "outputs": []
    },
    {
      "cell_type": "code",
      "metadata": {
        "colab": {
          "base_uri": "https://localhost:8080/"
        },
        "id": "XKZjWhe2gUHP",
        "outputId": "385754ee-35e2-40f0-a797-c65a0cd9fc99"
      },
      "source": [
        "from tensorflow.keras.preprocessing.image import ImageDataGenerator\n",
        "\n",
        "train_datagen=ImageDataGenerator(rescale=1/255)\n",
        "\n",
        "train_generator=train_datagen.flow_from_directory(\n",
        "    '/tmp/h-or-s',\n",
        "    target_size=(150,150),\n",
        "    batch_size=64,\n",
        "    class_mode='binary'\n",
        ")"
      ],
      "execution_count": 17,
      "outputs": [
        {
          "output_type": "stream",
          "text": [
            "Found 80 images belonging to 2 classes.\n"
          ],
          "name": "stdout"
        }
      ]
    },
    {
      "cell_type": "code",
      "metadata": {
        "colab": {
          "base_uri": "https://localhost:8080/"
        },
        "id": "SlBtHyfwgUKe",
        "outputId": "91ae2666-5658-49b1-84c9-e6d7d70d59aa"
      },
      "source": [
        "from tensorflow.keras import layers\n",
        "\n",
        "model=tf.keras.Sequential()\n",
        "\n",
        "model.add(layers.Conv2D(filters=64,kernel_size=(3,3),activation='relu',input_shape=(150,150,3)))\n",
        "model.add(layers.MaxPooling2D(2,2))\n",
        "model.add(layers.Conv2D(filters=32,kernel_size=(3,3),activation='relu',input_shape=(150,150,3)))\n",
        "model.add(layers.MaxPooling2D(2,2))\n",
        "model.add(layers.Conv2D(filters=32,kernel_size=(2,2),activation='relu',input_shape=(150,150,3)))\n",
        "model.add(layers.MaxPooling2D(2,2))\n",
        "model.add(layers.Flatten())\n",
        "model.add(layers.Dense(units=512,activation='relu'))\n",
        "model.add(layers.Dense(units=128,activation='relu'))\n",
        "model.add(layers.Dense(units=1,activation='sigmoid'))\n",
        "\n",
        "model.summary()"
      ],
      "execution_count": 22,
      "outputs": [
        {
          "output_type": "stream",
          "text": [
            "Model: \"sequential_5\"\n",
            "_________________________________________________________________\n",
            "Layer (type)                 Output Shape              Param #   \n",
            "=================================================================\n",
            "conv2d_7 (Conv2D)            (None, 148, 148, 64)      1792      \n",
            "_________________________________________________________________\n",
            "max_pooling2d_6 (MaxPooling2 (None, 74, 74, 64)        0         \n",
            "_________________________________________________________________\n",
            "conv2d_8 (Conv2D)            (None, 72, 72, 32)        18464     \n",
            "_________________________________________________________________\n",
            "max_pooling2d_7 (MaxPooling2 (None, 36, 36, 32)        0         \n",
            "_________________________________________________________________\n",
            "conv2d_9 (Conv2D)            (None, 35, 35, 32)        4128      \n",
            "_________________________________________________________________\n",
            "max_pooling2d_8 (MaxPooling2 (None, 17, 17, 32)        0         \n",
            "_________________________________________________________________\n",
            "flatten_2 (Flatten)          (None, 9248)              0         \n",
            "_________________________________________________________________\n",
            "dense_3 (Dense)              (None, 512)               4735488   \n",
            "_________________________________________________________________\n",
            "dense_4 (Dense)              (None, 128)               65664     \n",
            "_________________________________________________________________\n",
            "dense_5 (Dense)              (None, 1)                 129       \n",
            "=================================================================\n",
            "Total params: 4,825,665\n",
            "Trainable params: 4,825,665\n",
            "Non-trainable params: 0\n",
            "_________________________________________________________________\n"
          ],
          "name": "stdout"
        }
      ]
    },
    {
      "cell_type": "code",
      "metadata": {
        "id": "AllQenNK0Wn6"
      },
      "source": [
        "model.compile(optimizer='rmsprop',loss='binary_crossentropy',metrics=['accuracy'])"
      ],
      "execution_count": 23,
      "outputs": []
    },
    {
      "cell_type": "code",
      "metadata": {
        "colab": {
          "base_uri": "https://localhost:8080/"
        },
        "id": "J7QCVEsXA6Iz",
        "outputId": "ac51f915-4c7f-4401-9edb-26899586fcda"
      },
      "source": [
        "history=model.fit_generator(\n",
        "    train_generator,  \n",
        "    epochs=20\n",
        ")"
      ],
      "execution_count": 24,
      "outputs": [
        {
          "output_type": "stream",
          "text": [
            "/usr/local/lib/python3.7/dist-packages/tensorflow/python/keras/engine/training.py:1844: UserWarning: `Model.fit_generator` is deprecated and will be removed in a future version. Please use `Model.fit`, which supports generators.\n",
            "  warnings.warn('`Model.fit_generator` is deprecated and '\n"
          ],
          "name": "stderr"
        },
        {
          "output_type": "stream",
          "text": [
            "Epoch 1/20\n",
            "2/2 [==============================] - 4s 584ms/step - loss: 0.9266 - accuracy: 0.5000\n",
            "Epoch 2/20\n",
            "2/2 [==============================] - 3s 2s/step - loss: 1.1691 - accuracy: 0.3875\n",
            "Epoch 3/20\n",
            "2/2 [==============================] - 3s 585ms/step - loss: 0.7214 - accuracy: 0.4562\n",
            "Epoch 4/20\n",
            "2/2 [==============================] - 3s 2s/step - loss: 0.6822 - accuracy: 0.5208\n",
            "Epoch 5/20\n",
            "2/2 [==============================] - 3s 2s/step - loss: 0.6582 - accuracy: 0.6375\n",
            "Epoch 6/20\n",
            "2/2 [==============================] - 3s 581ms/step - loss: 0.6220 - accuracy: 0.8354\n",
            "Epoch 7/20\n",
            "2/2 [==============================] - 3s 2s/step - loss: 0.6615 - accuracy: 0.7583\n",
            "Epoch 8/20\n",
            "2/2 [==============================] - 3s 589ms/step - loss: 0.5707 - accuracy: 0.7615\n",
            "Epoch 9/20\n",
            "2/2 [==============================] - 3s 2s/step - loss: 0.7918 - accuracy: 0.6667\n",
            "Epoch 10/20\n",
            "2/2 [==============================] - 3s 2s/step - loss: 1.0069 - accuracy: 0.6667\n",
            "Epoch 11/20\n",
            "2/2 [==============================] - 3s 593ms/step - loss: 0.4214 - accuracy: 0.8969\n",
            "Epoch 12/20\n",
            "2/2 [==============================] - 3s 2s/step - loss: 0.4223 - accuracy: 0.7583\n",
            "Epoch 13/20\n",
            "2/2 [==============================] - 3s 2s/step - loss: 0.3222 - accuracy: 0.8500\n",
            "Epoch 14/20\n",
            "2/2 [==============================] - 3s 2s/step - loss: 0.2192 - accuracy: 0.9333\n",
            "Epoch 15/20\n",
            "2/2 [==============================] - 3s 2s/step - loss: 0.3319 - accuracy: 0.8083\n",
            "Epoch 16/20\n",
            "2/2 [==============================] - 3s 2s/step - loss: 0.2425 - accuracy: 0.9125\n",
            "Epoch 17/20\n",
            "2/2 [==============================] - 3s 2s/step - loss: 0.1365 - accuracy: 0.9458\n",
            "Epoch 18/20\n",
            "2/2 [==============================] - 3s 2s/step - loss: 0.0997 - accuracy: 0.9583\n",
            "Epoch 19/20\n",
            "2/2 [==============================] - 3s 593ms/step - loss: 0.1290 - accuracy: 1.0000\n",
            "Epoch 20/20\n",
            "2/2 [==============================] - 3s 571ms/step - loss: 0.2193 - accuracy: 0.9323\n"
          ],
          "name": "stdout"
        }
      ]
    },
    {
      "cell_type": "code",
      "metadata": {
        "id": "8O9haEpDBJ1p"
      },
      "source": [
        ""
      ],
      "execution_count": null,
      "outputs": []
    }
  ]
}